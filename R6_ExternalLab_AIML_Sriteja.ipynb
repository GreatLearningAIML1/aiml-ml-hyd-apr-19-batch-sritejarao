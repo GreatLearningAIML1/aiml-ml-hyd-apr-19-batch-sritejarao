{
 "cells": [
  {
   "cell_type": "markdown",
   "metadata": {
    "colab_type": "text",
    "id": "YYk8NG3yOIT9"
   },
   "source": [
    "### A MNIST-like fashion product database\n",
    "\n",
    "In this, we classify the images into respective classes given in the dataset. We use a Neural Net and a Deep Neural Net in Keras to solve this and check the accuracy scores."
   ]
  },
  {
   "cell_type": "code",
   "execution_count": 0,
   "metadata": {
    "colab": {},
    "colab_type": "code",
    "id": "doRRn93l0fZB"
   },
   "outputs": [],
   "source": []
  },
  {
   "cell_type": "markdown",
   "metadata": {
    "colab_type": "text",
    "id": "tFO6PuxzOIT_"
   },
   "source": [
    "### Load tensorflow"
   ]
  },
  {
   "cell_type": "code",
   "execution_count": 1,
   "metadata": {
    "colab": {},
    "colab_type": "code",
    "id": "efNjNImfOIUC"
   },
   "outputs": [],
   "source": [
    "import tensorflow as tf\n",
    "tf.set_random_seed(42)"
   ]
  },
  {
   "cell_type": "code",
   "execution_count": 2,
   "metadata": {
    "colab": {
     "base_uri": "https://localhost:8080/",
     "height": 34
    },
    "colab_type": "code",
    "id": "l9C4aAIGOIUH",
    "outputId": "6e9a078a-7100-49f7-a975-5d9d9510e0ff"
   },
   "outputs": [
    {
     "data": {
      "text/plain": [
       "'1.13.1'"
      ]
     },
     "execution_count": 2,
     "metadata": {},
     "output_type": "execute_result"
    }
   ],
   "source": [
    "tf.__version__"
   ]
  },
  {
   "cell_type": "markdown",
   "metadata": {
    "colab_type": "text",
    "id": "HcoZBStrOIUQ"
   },
   "source": [
    "### Collect Data"
   ]
  },
  {
   "cell_type": "code",
   "execution_count": 3,
   "metadata": {
    "colab": {},
    "colab_type": "code",
    "id": "XA1WsFSeOIUS"
   },
   "outputs": [],
   "source": [
    "import tensorflow as tf\n",
    "from tensorflow import keras\n",
    "import numpy as np\n",
    "import matplotlib.pyplot as plt\n"
   ]
  },
  {
   "cell_type": "code",
   "execution_count": 6,
   "metadata": {
    "colab": {
     "base_uri": "https://localhost:8080/",
     "height": 158
    },
    "colab_type": "code",
    "id": "qnbx7TyQOIUY",
    "outputId": "32447d12-c8b1-49a2-aafa-2c19b0a38207"
   },
   "outputs": [],
   "source": [
    "(trainX, trainY), (testX, testY) = keras.datasets.fashion_mnist.load_data()"
   ]
  },
  {
   "cell_type": "code",
   "execution_count": 7,
   "metadata": {
    "colab": {
     "base_uri": "https://localhost:8080/",
     "height": 34
    },
    "colab_type": "code",
    "id": "UbiHj5YPOIUc",
    "outputId": "5a89aa4f-1625-427c-ed68-8c8c86fe8f4d"
   },
   "outputs": [
    {
     "name": "stdout",
     "output_type": "stream",
     "text": [
      "[9 2 1 1 6]\n"
     ]
    }
   ],
   "source": [
    "print(testY[0:5])"
   ]
  },
  {
   "cell_type": "code",
   "execution_count": 8,
   "metadata": {
    "colab": {
     "base_uri": "https://localhost:8080/",
     "height": 34
    },
    "colab_type": "code",
    "id": "97k6f7x30yT6",
    "outputId": "1ce295fb-adf0-44ce-dfc4-9696d0d5f537"
   },
   "outputs": [
    {
     "data": {
      "text/plain": [
       "(60000, 28, 28)"
      ]
     },
     "execution_count": 8,
     "metadata": {},
     "output_type": "execute_result"
    }
   ],
   "source": [
    "trainX.shape"
   ]
  },
  {
   "cell_type": "code",
   "execution_count": 9,
   "metadata": {
    "colab": {
     "base_uri": "https://localhost:8080/",
     "height": 34
    },
    "colab_type": "code",
    "id": "o_eLrdPH02kp",
    "outputId": "288eecad-8b9d-44d3-d071-d1d2253959ae"
   },
   "outputs": [
    {
     "data": {
      "text/plain": [
       "(60000,)"
      ]
     },
     "execution_count": 9,
     "metadata": {},
     "output_type": "execute_result"
    }
   ],
   "source": [
    "trainY.shape"
   ]
  },
  {
   "cell_type": "code",
   "execution_count": 10,
   "metadata": {
    "colab": {
     "base_uri": "https://localhost:8080/",
     "height": 34
    },
    "colab_type": "code",
    "id": "TLbaLWTq06yC",
    "outputId": "1df92579-4944-4677-8f41-1bdcc5c132b0"
   },
   "outputs": [
    {
     "data": {
      "text/plain": [
       "(10000, 28, 28)"
      ]
     },
     "execution_count": 10,
     "metadata": {},
     "output_type": "execute_result"
    }
   ],
   "source": [
    "testX.shape"
   ]
  },
  {
   "cell_type": "code",
   "execution_count": 11,
   "metadata": {
    "colab": {
     "base_uri": "https://localhost:8080/",
     "height": 34
    },
    "colab_type": "code",
    "id": "emI_Nuj40-_u",
    "outputId": "27c976df-0d2a-4a90-8c90-6ea6339452e3"
   },
   "outputs": [
    {
     "data": {
      "text/plain": [
       "(10000,)"
      ]
     },
     "execution_count": 11,
     "metadata": {},
     "output_type": "execute_result"
    }
   ],
   "source": [
    "testY.shape"
   ]
  },
  {
   "cell_type": "markdown",
   "metadata": {
    "colab_type": "text",
    "id": "lDAYzkwyOIUj"
   },
   "source": [
    "### Convert both training and testing labels into one-hot vectors.\n",
    "\n",
    "**Hint:** check **tf.keras.utils.to_categorical()**"
   ]
  },
  {
   "cell_type": "code",
   "execution_count": 15,
   "metadata": {
    "colab": {},
    "colab_type": "code",
    "id": "vBlfYlANOIUk"
   },
   "outputs": [],
   "source": [
    "import numpy as np\n",
    "trainX = trainX.astype(np.float32)\n",
    "trainY = trainY.astype(np.float32)"
   ]
  },
  {
   "cell_type": "code",
   "execution_count": 13,
   "metadata": {
    "colab": {},
    "colab_type": "code",
    "id": "lNwsnZ1F1RvI"
   },
   "outputs": [],
   "source": [
    "trainY = tf.keras.utils.to_categorical(trainY, num_classes=10)\n",
    "testY = tf.keras.utils.to_categorical(testY, num_classes=10)"
   ]
  },
  {
   "cell_type": "code",
   "execution_count": 16,
   "metadata": {
    "colab": {
     "base_uri": "https://localhost:8080/",
     "height": 123
    },
    "colab_type": "code",
    "id": "RHV3b9mzOIUq",
    "outputId": "8ba05c5c-b1ab-4885-8be1-ef822eaa664f",
    "scrolled": true
   },
   "outputs": [
    {
     "name": "stdout",
     "output_type": "stream",
     "text": [
      "(60000, 10)\n",
      "First 5 examples now are:  [[0. 0. 0. 0. 0. 0. 0. 0. 0. 1.]\n",
      " [1. 0. 0. 0. 0. 0. 0. 0. 0. 0.]\n",
      " [1. 0. 0. 0. 0. 0. 0. 0. 0. 0.]\n",
      " [0. 0. 0. 1. 0. 0. 0. 0. 0. 0.]\n",
      " [1. 0. 0. 0. 0. 0. 0. 0. 0. 0.]]\n"
     ]
    }
   ],
   "source": [
    "print(trainY.shape)\n",
    "print('First 5 examples now are: ', trainY[0:5])"
   ]
  },
  {
   "cell_type": "markdown",
   "metadata": {
    "colab_type": "text",
    "id": "FwhQ8e7VOIUw"
   },
   "source": [
    "### Visualize the data\n",
    "\n",
    "Plot first 10 images in the triaining set and their labels."
   ]
  },
  {
   "cell_type": "code",
   "execution_count": 17,
   "metadata": {
    "colab": {
     "base_uri": "https://localhost:8080/",
     "height": 404
    },
    "colab_type": "code",
    "id": "AvDML2OoOIUx",
    "outputId": "62b17c54-fa2d-479c-94d5-a99b739494b3"
   },
   "outputs": [
    {
     "data": {
      "image/png": "[encoded data removed]",
      "text/plain": [
       "<Figure size 720x720 with 10 Axes>"
      ]
     },
     "metadata": {},
     "output_type": "display_data"
    },
    {
     "name": "stdout",
     "output_type": "stream",
     "text": [
      "LABEL for each of the image  [[0. 0. 0. 0. 0. 0. 0. 0. 0. 1.]\n",
      " [1. 0. 0. 0. 0. 0. 0. 0. 0. 0.]\n",
      " [1. 0. 0. 0. 0. 0. 0. 0. 0. 0.]\n",
      " [0. 0. 0. 1. 0. 0. 0. 0. 0. 0.]\n",
      " [1. 0. 0. 0. 0. 0. 0. 0. 0. 0.]\n",
      " [0. 0. 1. 0. 0. 0. 0. 0. 0. 0.]\n",
      " [0. 0. 0. 0. 0. 0. 0. 1. 0. 0.]\n",
      " [0. 0. 1. 0. 0. 0. 0. 0. 0. 0.]\n",
      " [0. 0. 0. 0. 0. 1. 0. 0. 0. 0.]]\n"
     ]
    }
   ],
   "source": [
    "plt.figure(figsize=(10,10))\n",
    "for i in range(10):\n",
    "    plt.subplot(5,5,i+1)\n",
    "    plt.xticks([])\n",
    "    plt.yticks([])\n",
    "    plt.grid(False)\n",
    "    plt.imshow(trainX[i], cmap=plt.cm.binary)\n",
    "    \n",
    "plt.show()\n",
    "\n",
    "\n",
    "print('LABEL for each of the image ', trainY[0:9])"
   ]
  },
  {
   "cell_type": "markdown",
   "metadata": {
    "colab_type": "text",
    "id": "l4TbJGeSOIU4"
   },
   "source": [
    "### Build a neural Network with a cross entropy loss function and sgd optimizer in Keras. The output layer with 10 neurons as we have 10 classes."
   ]
  },
  {
   "cell_type": "code",
   "execution_count": 18,
   "metadata": {
    "colab": {},
    "colab_type": "code",
    "id": "Ac06XZZTOIU6"
   },
   "outputs": [
    {
     "name": "stdout",
     "output_type": "stream",
     "text": [
      "WARNING:tensorflow:From C:\\ProgramData\\Anaconda3\\lib\\site-packages\\tensorflow\\python\\ops\\resource_variable_ops.py:435: colocate_with (from tensorflow.python.framework.ops) is deprecated and will be removed in a future version.\n",
      "Instructions for updating:\n",
      "Colocations handled automatically by placer.\n"
     ]
    }
   ],
   "source": [
    "#Initialize Sequential model\n",
    "model = tf.keras.models.Sequential()\n",
    "\n",
    "#Reshape data from 2D to 1D -> 28x28 to 784\n",
    "model.add(tf.keras.layers.Reshape((784,),input_shape=(28,28,)))\n",
    "\n",
    "#Normalize the data\n",
    "model.add(tf.keras.layers.BatchNormalization())\n",
    "\n",
    "#Add Dense Layer which provides 10 Outputs after applying softmax\n",
    "model.add(tf.keras.layers.Dense(10, activation='softmax'))\n",
    "\n",
    "#Comile the model\n",
    "model.compile(optimizer='sgd', loss='categorical_crossentropy',metrics=['accuracy'])"
   ]
  },
  {
   "cell_type": "markdown",
   "metadata": {
    "colab_type": "text",
    "id": "3hQpLv3aOIU_"
   },
   "source": [
    "### Execute the model using model.fit()"
   ]
  },
  {
   "cell_type": "code",
   "execution_count": 19,
   "metadata": {
    "colab": {
     "base_uri": "https://localhost:8080/",
     "height": 1000
    },
    "colab_type": "code",
    "id": "O59C_-IgOIVB",
    "outputId": "ad861a97-b42a-45f6-dd7b-0f78c02de8f7"
   },
   "outputs": [
    {
     "name": "stdout",
     "output_type": "stream",
     "text": [
      "Train on 60000 samples, validate on 10000 samples\n",
      "WARNING:tensorflow:From C:\\ProgramData\\Anaconda3\\lib\\site-packages\\tensorflow\\python\\ops\\math_ops.py:3066: to_int32 (from tensorflow.python.ops.math_ops) is deprecated and will be removed in a future version.\n",
      "Instructions for updating:\n",
      "Use tf.cast instead.\n",
      "Epoch 1/100\n",
      "60000/60000 [==============================] - 9s 148us/sample - loss: 3.0643 - acc: 0.0942 - val_loss: 12.7705 - val_acc: 0.1059\n",
      "Epoch 2/100\n",
      "60000/60000 [==============================] - 9s 151us/sample - loss: 2.7795 - acc: 0.1266 - val_loss: 11.3018 - val_acc: 0.1136\n",
      "Epoch 3/100\n",
      "60000/60000 [==============================] - 4s 61us/sample - loss: 2.5413 - acc: 0.1612 - val_loss: 9.9016 - val_acc: 0.1228\n",
      "Epoch 4/100\n",
      "60000/60000 [==============================] - 3s 45us/sample - loss: 2.3421 - acc: 0.1982 - val_loss: 8.5796 - val_acc: 0.1368\n",
      "Epoch 5/100\n",
      "60000/60000 [==============================] - 3s 44us/sample - loss: 2.1756 - acc: 0.2401 - val_loss: 7.3796 - val_acc: 0.1561\n",
      "Epoch 6/100\n",
      "60000/60000 [==============================] - 3s 45us/sample - loss: 2.0364 - acc: 0.2806 - val_loss: 6.3426 - val_acc: 0.1739\n",
      "Epoch 7/100\n",
      "60000/60000 [==============================] - 3s 45us/sample - loss: 1.9196 - acc: 0.3160 - val_loss: 5.4841 - val_acc: 0.1970\n",
      "Epoch 8/100\n",
      "60000/60000 [==============================] - 3s 44us/sample - loss: 1.8210 - acc: 0.3469 - val_loss: 4.8022 - val_acc: 0.2210\n",
      "Epoch 9/100\n",
      "60000/60000 [==============================] - 3s 44us/sample - loss: 1.7373 - acc: 0.3746 - val_loss: 4.2648 - val_acc: 0.2465\n",
      "Epoch 10/100\n",
      "60000/60000 [==============================] - 3s 43us/sample - loss: 1.6654 - acc: 0.4008 - val_loss: 3.8390 - val_acc: 0.2735\n",
      "Epoch 11/100\n",
      "60000/60000 [==============================] - 3s 44us/sample - loss: 1.6033 - acc: 0.4267 - val_loss: 3.4970 - val_acc: 0.3000\n",
      "Epoch 12/100\n",
      "60000/60000 [==============================] - 3s 44us/sample - loss: 1.5490 - acc: 0.4512 - val_loss: 3.2186 - val_acc: 0.3240\n",
      "Epoch 13/100\n",
      "60000/60000 [==============================] - 3s 43us/sample - loss: 1.5012 - acc: 0.4748 - val_loss: 2.9888 - val_acc: 0.3492\n",
      "Epoch 14/100\n",
      "60000/60000 [==============================] - 3s 44us/sample - loss: 1.4587 - acc: 0.4954 - val_loss: 2.7969 - val_acc: 0.3740\n",
      "Epoch 15/100\n",
      "60000/60000 [==============================] - 3s 43us/sample - loss: 1.4207 - acc: 0.5138 - val_loss: 2.6342 - val_acc: 0.3985\n",
      "Epoch 16/100\n",
      "60000/60000 [==============================] - 3s 44us/sample - loss: 1.3864 - acc: 0.5304 - val_loss: 2.4946 - val_acc: 0.4188\n",
      "Epoch 17/100\n",
      "60000/60000 [==============================] - 3s 44us/sample - loss: 1.3553 - acc: 0.5436 - val_loss: 2.3738 - val_acc: 0.4377\n",
      "Epoch 18/100\n",
      "60000/60000 [==============================] - 3s 44us/sample - loss: 1.3268 - acc: 0.5552 - val_loss: 2.2679 - val_acc: 0.4565\n",
      "Epoch 19/100\n",
      "60000/60000 [==============================] - 3s 44us/sample - loss: 1.3007 - acc: 0.5652 - val_loss: 2.1743 - val_acc: 0.4752\n",
      "Epoch 20/100\n",
      "60000/60000 [==============================] - 3s 49us/sample - loss: 1.2766 - acc: 0.5739 - val_loss: 2.0912 - val_acc: 0.4919\n",
      "Epoch 21/100\n",
      "60000/60000 [==============================] - 3s 54us/sample - loss: 1.2542 - acc: 0.5824 - val_loss: 2.0169 - val_acc: 0.5076\n",
      "Epoch 22/100\n",
      "60000/60000 [==============================] - 3s 44us/sample - loss: 1.2333 - acc: 0.5896 - val_loss: 1.9501 - val_acc: 0.5211\n",
      "Epoch 23/100\n",
      "60000/60000 [==============================] - 3s 44us/sample - loss: 1.2139 - acc: 0.5966 - val_loss: 1.8897 - val_acc: 0.5315\n",
      "Epoch 24/100\n",
      "60000/60000 [==============================] - 3s 44us/sample - loss: 1.1956 - acc: 0.6033 - val_loss: 1.8347 - val_acc: 0.5424\n",
      "Epoch 25/100\n",
      "60000/60000 [==============================] - 3s 43us/sample - loss: 1.1785 - acc: 0.6097 - val_loss: 1.7843 - val_acc: 0.5537\n",
      "Epoch 26/100\n",
      "60000/60000 [==============================] - 3s 43us/sample - loss: 1.1623 - acc: 0.6149 - val_loss: 1.7379 - val_acc: 0.5624\n",
      "Epoch 27/100\n",
      "60000/60000 [==============================] - 3s 43us/sample - loss: 1.1470 - acc: 0.6197 - val_loss: 1.6952 - val_acc: 0.5706\n",
      "Epoch 28/100\n",
      "60000/60000 [==============================] - 3s 43us/sample - loss: 1.1326 - acc: 0.6243 - val_loss: 1.6556 - val_acc: 0.5786\n",
      "Epoch 29/100\n",
      "60000/60000 [==============================] - 3s 44us/sample - loss: 1.1189 - acc: 0.6286 - val_loss: 1.6187 - val_acc: 0.5871\n",
      "Epoch 30/100\n",
      "60000/60000 [==============================] - 3s 44us/sample - loss: 1.1059 - acc: 0.6330 - val_loss: 1.5843 - val_acc: 0.5940\n",
      "Epoch 31/100\n",
      "60000/60000 [==============================] - 3s 44us/sample - loss: 1.0935 - acc: 0.6372 - val_loss: 1.5521 - val_acc: 0.5987\n",
      "Epoch 32/100\n",
      "60000/60000 [==============================] - 3s 43us/sample - loss: 1.0817 - acc: 0.6412 - val_loss: 1.5219 - val_acc: 0.6045\n",
      "Epoch 33/100\n",
      "60000/60000 [==============================] - 3s 51us/sample - loss: 1.0704 - acc: 0.6442 - val_loss: 1.4935 - val_acc: 0.6085\n",
      "Epoch 34/100\n",
      "60000/60000 [==============================] - 3s 44us/sample - loss: 1.0596 - acc: 0.6473 - val_loss: 1.4667 - val_acc: 0.6119\n",
      "Epoch 35/100\n",
      "60000/60000 [==============================] - 3s 44us/sample - loss: 1.0493 - acc: 0.6508 - val_loss: 1.4414 - val_acc: 0.6154\n",
      "Epoch 36/100\n",
      "60000/60000 [==============================] - 3s 43us/sample - loss: 1.0395 - acc: 0.6538 - val_loss: 1.4175 - val_acc: 0.6184\n",
      "Epoch 37/100\n",
      "60000/60000 [==============================] - 3s 43us/sample - loss: 1.0300 - acc: 0.6569 - val_loss: 1.3947 - val_acc: 0.6215\n",
      "Epoch 38/100\n",
      "60000/60000 [==============================] - 3s 43us/sample - loss: 1.0209 - acc: 0.6597 - val_loss: 1.3732 - val_acc: 0.6249\n",
      "Epoch 39/100\n",
      "60000/60000 [==============================] - 3s 43us/sample - loss: 1.0122 - acc: 0.6624 - val_loss: 1.3526 - val_acc: 0.6278\n",
      "Epoch 40/100\n",
      "60000/60000 [==============================] - 3s 43us/sample - loss: 1.0038 - acc: 0.6647 - val_loss: 1.3330 - val_acc: 0.6314\n",
      "Epoch 41/100\n",
      "60000/60000 [==============================] - 3s 43us/sample - loss: 0.9957 - acc: 0.6672 - val_loss: 1.3142 - val_acc: 0.6346\n",
      "Epoch 42/100\n",
      "60000/60000 [==============================] - 3s 43us/sample - loss: 0.9879 - acc: 0.6696 - val_loss: 1.2963 - val_acc: 0.6371\n",
      "Epoch 43/100\n",
      "60000/60000 [==============================] - 3s 43us/sample - loss: 0.9803 - acc: 0.6716 - val_loss: 1.2792 - val_acc: 0.6390\n",
      "Epoch 44/100\n",
      "60000/60000 [==============================] - 3s 43us/sample - loss: 0.9731 - acc: 0.6741 - val_loss: 1.2627 - val_acc: 0.6413\n",
      "Epoch 45/100\n",
      "60000/60000 [==============================] - 3s 43us/sample - loss: 0.9660 - acc: 0.6763 - val_loss: 1.2470 - val_acc: 0.6436\n",
      "Epoch 46/100\n",
      "60000/60000 [==============================] - 3s 43us/sample - loss: 0.9593 - acc: 0.6783 - val_loss: 1.2319 - val_acc: 0.6456\n",
      "Epoch 47/100\n",
      "60000/60000 [==============================] - 3s 43us/sample - loss: 0.9527 - acc: 0.6801 - val_loss: 1.2174 - val_acc: 0.6472\n",
      "Epoch 48/100\n",
      "60000/60000 [==============================] - 3s 43us/sample - loss: 0.9463 - acc: 0.6817 - val_loss: 1.2034 - val_acc: 0.6488\n",
      "Epoch 49/100\n",
      "60000/60000 [==============================] - 3s 44us/sample - loss: 0.9402 - acc: 0.6834 - val_loss: 1.1900 - val_acc: 0.6517\n",
      "Epoch 50/100\n",
      "60000/60000 [==============================] - 3s 44us/sample - loss: 0.9342 - acc: 0.6849 - val_loss: 1.1770 - val_acc: 0.6536\n",
      "Epoch 51/100\n",
      "60000/60000 [==============================] - 3s 43us/sample - loss: 0.9285 - acc: 0.6865 - val_loss: 1.1645 - val_acc: 0.6548\n",
      "Epoch 52/100\n",
      "60000/60000 [==============================] - 3s 44us/sample - loss: 0.9228 - acc: 0.6879 - val_loss: 1.1525 - val_acc: 0.6566\n",
      "Epoch 53/100\n",
      "60000/60000 [==============================] - 3s 44us/sample - loss: 0.9174 - acc: 0.6891 - val_loss: 1.1408 - val_acc: 0.6577\n",
      "Epoch 54/100\n",
      "60000/60000 [==============================] - 3s 50us/sample - loss: 0.9121 - acc: 0.6909 - val_loss: 1.1296 - val_acc: 0.6593\n",
      "Epoch 55/100\n",
      "60000/60000 [==============================] - 3s 47us/sample - loss: 0.9070 - acc: 0.6924 - val_loss: 1.1187 - val_acc: 0.6612\n",
      "Epoch 56/100\n",
      "60000/60000 [==============================] - 3s 53us/sample - loss: 0.9020 - acc: 0.6939 - val_loss: 1.1082 - val_acc: 0.6632\n"
     ]
    },
    {
     "name": "stdout",
     "output_type": "stream",
     "text": [
      "Epoch 57/100\n",
      "60000/60000 [==============================] - 3s 49us/sample - loss: 0.8971 - acc: 0.6953 - val_loss: 1.0981 - val_acc: 0.6652\n",
      "Epoch 58/100\n",
      "60000/60000 [==============================] - 3s 45us/sample - loss: 0.8924 - acc: 0.6969 - val_loss: 1.0882 - val_acc: 0.6672\n",
      "Epoch 59/100\n",
      "60000/60000 [==============================] - 3s 43us/sample - loss: 0.8878 - acc: 0.6980 - val_loss: 1.0787 - val_acc: 0.6688\n",
      "Epoch 60/100\n",
      "60000/60000 [==============================] - 3s 43us/sample - loss: 0.8833 - acc: 0.6994 - val_loss: 1.0694 - val_acc: 0.6708\n",
      "Epoch 61/100\n",
      "60000/60000 [==============================] - 3s 43us/sample - loss: 0.8789 - acc: 0.7006 - val_loss: 1.0605 - val_acc: 0.6719\n",
      "Epoch 62/100\n",
      "60000/60000 [==============================] - 3s 43us/sample - loss: 0.8747 - acc: 0.7018 - val_loss: 1.0518 - val_acc: 0.6731\n",
      "Epoch 63/100\n",
      "60000/60000 [==============================] - 3s 43us/sample - loss: 0.8705 - acc: 0.7029 - val_loss: 1.0433 - val_acc: 0.6748\n",
      "Epoch 64/100\n",
      "60000/60000 [==============================] - 3s 43us/sample - loss: 0.8665 - acc: 0.7037 - val_loss: 1.0351 - val_acc: 0.6760\n",
      "Epoch 65/100\n",
      "60000/60000 [==============================] - 3s 43us/sample - loss: 0.8625 - acc: 0.7050 - val_loss: 1.0271 - val_acc: 0.6767\n",
      "Epoch 66/100\n",
      "60000/60000 [==============================] - 3s 43us/sample - loss: 0.8587 - acc: 0.7061 - val_loss: 1.0194 - val_acc: 0.6785\n",
      "Epoch 67/100\n",
      "60000/60000 [==============================] - 3s 42us/sample - loss: 0.8549 - acc: 0.7071 - val_loss: 1.0119 - val_acc: 0.6796\n",
      "Epoch 68/100\n",
      "60000/60000 [==============================] - 3s 43us/sample - loss: 0.8512 - acc: 0.7084 - val_loss: 1.0045 - val_acc: 0.6814\n",
      "Epoch 69/100\n",
      "60000/60000 [==============================] - 3s 42us/sample - loss: 0.8476 - acc: 0.7096 - val_loss: 0.9974 - val_acc: 0.6837\n",
      "Epoch 70/100\n",
      "60000/60000 [==============================] - 3s 43us/sample - loss: 0.8441 - acc: 0.7106 - val_loss: 0.9904 - val_acc: 0.6854\n",
      "Epoch 71/100\n",
      "60000/60000 [==============================] - 3s 44us/sample - loss: 0.8407 - acc: 0.7116 - val_loss: 0.9837 - val_acc: 0.6879\n",
      "Epoch 72/100\n",
      "60000/60000 [==============================] - 3s 49us/sample - loss: 0.8373 - acc: 0.7126 - val_loss: 0.9771 - val_acc: 0.6887\n",
      "Epoch 73/100\n",
      "60000/60000 [==============================] - 3s 43us/sample - loss: 0.8340 - acc: 0.7136 - val_loss: 0.9707 - val_acc: 0.6900\n",
      "Epoch 74/100\n",
      "60000/60000 [==============================] - 3s 44us/sample - loss: 0.8308 - acc: 0.7148 - val_loss: 0.9644 - val_acc: 0.6904\n",
      "Epoch 75/100\n",
      "60000/60000 [==============================] - 3s 43us/sample - loss: 0.8277 - acc: 0.7160 - val_loss: 0.9584 - val_acc: 0.6909\n",
      "Epoch 76/100\n",
      "60000/60000 [==============================] - 3s 43us/sample - loss: 0.8246 - acc: 0.7169 - val_loss: 0.9524 - val_acc: 0.6921\n",
      "Epoch 77/100\n",
      "60000/60000 [==============================] - 3s 42us/sample - loss: 0.8216 - acc: 0.7181 - val_loss: 0.9466 - val_acc: 0.6929\n",
      "Epoch 78/100\n",
      "60000/60000 [==============================] - 3s 43us/sample - loss: 0.8186 - acc: 0.7192 - val_loss: 0.9410 - val_acc: 0.6948\n",
      "Epoch 79/100\n",
      "60000/60000 [==============================] - 3s 43us/sample - loss: 0.8157 - acc: 0.7201 - val_loss: 0.9355 - val_acc: 0.6966\n",
      "Epoch 80/100\n",
      "60000/60000 [==============================] - 3s 43us/sample - loss: 0.8129 - acc: 0.7209 - val_loss: 0.9301 - val_acc: 0.6975\n",
      "Epoch 81/100\n",
      "60000/60000 [==============================] - 3s 42us/sample - loss: 0.8101 - acc: 0.7222 - val_loss: 0.9249 - val_acc: 0.6985\n",
      "Epoch 82/100\n",
      "60000/60000 [==============================] - 3s 42us/sample - loss: 0.8074 - acc: 0.7232 - val_loss: 0.9197 - val_acc: 0.6998\n",
      "Epoch 83/100\n",
      "60000/60000 [==============================] - 3s 45us/sample - loss: 0.8047 - acc: 0.7240 - val_loss: 0.9147 - val_acc: 0.7012\n",
      "Epoch 84/100\n",
      "60000/60000 [==============================] - 3s 48us/sample - loss: 0.8021 - acc: 0.7247 - val_loss: 0.9098 - val_acc: 0.7018\n",
      "Epoch 85/100\n",
      "60000/60000 [==============================] - 3s 48us/sample - loss: 0.7995 - acc: 0.7255 - val_loss: 0.9051 - val_acc: 0.7030\n",
      "Epoch 86/100\n",
      "60000/60000 [==============================] - 3s 50us/sample - loss: 0.7969 - acc: 0.7266 - val_loss: 0.9004 - val_acc: 0.7038\n",
      "Epoch 87/100\n",
      "60000/60000 [==============================] - 3s 45us/sample - loss: 0.7945 - acc: 0.7274 - val_loss: 0.8958 - val_acc: 0.7050\n",
      "Epoch 88/100\n",
      "60000/60000 [==============================] - 3s 45us/sample - loss: 0.7920 - acc: 0.7283 - val_loss: 0.8914 - val_acc: 0.7070\n",
      "Epoch 89/100\n",
      "60000/60000 [==============================] - 3s 45us/sample - loss: 0.7896 - acc: 0.7291 - val_loss: 0.8870 - val_acc: 0.7074\n",
      "Epoch 90/100\n",
      "60000/60000 [==============================] - 3s 44us/sample - loss: 0.7873 - acc: 0.7298 - val_loss: 0.8828 - val_acc: 0.7083\n",
      "Epoch 91/100\n",
      "60000/60000 [==============================] - 3s 43us/sample - loss: 0.7850 - acc: 0.7305 - val_loss: 0.8786 - val_acc: 0.7099\n",
      "Epoch 92/100\n",
      "60000/60000 [==============================] - 3s 45us/sample - loss: 0.7827 - acc: 0.7313 - val_loss: 0.8745 - val_acc: 0.7109\n",
      "Epoch 93/100\n",
      "60000/60000 [==============================] - 3s 46us/sample - loss: 0.7804 - acc: 0.7321 - val_loss: 0.8705 - val_acc: 0.7117\n",
      "Epoch 94/100\n",
      "60000/60000 [==============================] - 3s 45us/sample - loss: 0.7782 - acc: 0.7328 - val_loss: 0.8666 - val_acc: 0.7127\n",
      "Epoch 95/100\n",
      "60000/60000 [==============================] - 3s 48us/sample - loss: 0.7761 - acc: 0.7336 - val_loss: 0.8628 - val_acc: 0.7140\n",
      "Epoch 96/100\n",
      "60000/60000 [==============================] - 3s 54us/sample - loss: 0.7740 - acc: 0.7343 - val_loss: 0.8591 - val_acc: 0.7147\n",
      "Epoch 97/100\n",
      "60000/60000 [==============================] - 3s 47us/sample - loss: 0.7719 - acc: 0.7351 - val_loss: 0.8554 - val_acc: 0.7160\n",
      "Epoch 98/100\n",
      "60000/60000 [==============================] - 3s 46us/sample - loss: 0.7698 - acc: 0.7358 - val_loss: 0.8518 - val_acc: 0.7165\n",
      "Epoch 99/100\n",
      "60000/60000 [==============================] - 3s 45us/sample - loss: 0.7678 - acc: 0.7363 - val_loss: 0.8483 - val_acc: 0.7176\n",
      "Epoch 100/100\n",
      "60000/60000 [==============================] - 3s 44us/sample - loss: 0.7658 - acc: 0.7371 - val_loss: 0.8449 - val_acc: 0.7188\n"
     ]
    },
    {
     "data": {
      "text/plain": [
       "<tensorflow.python.keras.callbacks.History at 0x18ca0533cf8>"
      ]
     },
     "execution_count": 19,
     "metadata": {},
     "output_type": "execute_result"
    }
   ],
   "source": [
    "model.fit(trainX, trainY, \n",
    "          validation_data=(testX, testY), \n",
    "          epochs=100,\n",
    "          batch_size=trainX.shape[0])"
   ]
  },
  {
   "cell_type": "code",
   "execution_count": 0,
   "metadata": {
    "colab": {},
    "colab_type": "code",
    "id": "Q6Euk01q8Jhf"
   },
   "outputs": [],
   "source": [
    "#model Accuracy Improved from 13% to 72%"
   ]
  },
  {
   "cell_type": "markdown",
   "metadata": {
    "colab_type": "text",
    "id": "JdzDtGwDOIVF"
   },
   "source": [
    "### In the above Neural Network model add Batch Normalization layer after the input layer and repeat the steps."
   ]
  },
  {
   "cell_type": "code",
   "execution_count": 0,
   "metadata": {
    "colab": {},
    "colab_type": "code",
    "id": "kndfpdidOIVI"
   },
   "outputs": [],
   "source": [
    "##Batch Normalization used in the above step only"
   ]
  },
  {
   "cell_type": "markdown",
   "metadata": {
    "colab_type": "text",
    "id": "mwk3T5LJOIVN"
   },
   "source": [
    "### Execute the model"
   ]
  },
  {
   "cell_type": "code",
   "execution_count": 23,
   "metadata": {
    "colab": {
     "base_uri": "https://localhost:8080/",
     "height": 265
    },
    "colab_type": "code",
    "id": "JNLR8tcBOIVP",
    "outputId": "f29cfd87-368e-4415-cdc7-606fb45ef1ea"
   },
   "outputs": [
    {
     "name": "stdout",
     "output_type": "stream",
     "text": [
      "Model: \"sequential_2\"\n",
      "_________________________________________________________________\n",
      "Layer (type)                 Output Shape              Param #   \n",
      "=================================================================\n",
      "reshape_1 (Reshape)          (None, 784)               0         \n",
      "_________________________________________________________________\n",
      "batch_normalization_1 (Batch (None, 784)               3136      \n",
      "_________________________________________________________________\n",
      "dense_1 (Dense)              (None, 10)                7850      \n",
      "=================================================================\n",
      "Total params: 10,986\n",
      "Trainable params: 9,418\n",
      "Non-trainable params: 1,568\n",
      "_________________________________________________________________\n"
     ]
    }
   ],
   "source": [
    "model.summary()"
   ]
  },
  {
   "cell_type": "markdown",
   "metadata": {
    "colab_type": "text",
    "id": "Py-KwkmjOIVU"
   },
   "source": [
    "### Customize the learning rate to 0.001 in sgd optimizer and run the model"
   ]
  },
  {
   "cell_type": "code",
   "execution_count": 25,
   "metadata": {
    "colab": {
     "base_uri": "https://localhost:8080/",
     "height": 1000
    },
    "colab_type": "code",
    "id": "yLXUE9jWOIVV",
    "outputId": "e3bfd2f3-abc6-4972-fc90-6c1e5b3247ac"
   },
   "outputs": [
    {
     "name": "stdout",
     "output_type": "stream",
     "text": [
      "Train on 60000 samples, validate on 10000 samples\n",
      "Epoch 1/100\n",
      "60000/60000 [==============================] - 1s 13us/sample - loss: 0.7552 - acc: 0.7449 - val_loss: 0.8329 - val_acc: 0.7249\n",
      "Epoch 2/100\n",
      "60000/60000 [==============================] - 1s 13us/sample - loss: 0.7535 - acc: 0.7455 - val_loss: 0.8298 - val_acc: 0.7253\n",
      "Epoch 3/100\n",
      "60000/60000 [==============================] - 1s 14us/sample - loss: 0.7517 - acc: 0.7461 - val_loss: 0.8268 - val_acc: 0.7262\n",
      "Epoch 4/100\n",
      "60000/60000 [==============================] - 1s 13us/sample - loss: 0.7500 - acc: 0.7467 - val_loss: 0.8239 - val_acc: 0.7275\n",
      "Epoch 5/100\n",
      "60000/60000 [==============================] - 1s 13us/sample - loss: 0.7483 - acc: 0.7472 - val_loss: 0.8210 - val_acc: 0.7283\n",
      "Epoch 6/100\n",
      "60000/60000 [==============================] - 1s 13us/sample - loss: 0.7466 - acc: 0.7477 - val_loss: 0.8182 - val_acc: 0.7287\n",
      "Epoch 7/100\n",
      "60000/60000 [==============================] - 1s 13us/sample - loss: 0.7450 - acc: 0.7483 - val_loss: 0.8154 - val_acc: 0.7292\n",
      "Epoch 8/100\n",
      "60000/60000 [==============================] - 1s 13us/sample - loss: 0.7434 - acc: 0.7487 - val_loss: 0.8127 - val_acc: 0.7298\n",
      "Epoch 9/100\n",
      "60000/60000 [==============================] - 1s 14us/sample - loss: 0.7417 - acc: 0.7490 - val_loss: 0.8100 - val_acc: 0.7302\n",
      "Epoch 10/100\n",
      "60000/60000 [==============================] - 1s 13us/sample - loss: 0.7402 - acc: 0.7495 - val_loss: 0.8074 - val_acc: 0.7308\n",
      "Epoch 11/100\n",
      "60000/60000 [==============================] - 1s 14us/sample - loss: 0.7386 - acc: 0.7499 - val_loss: 0.8048 - val_acc: 0.7316\n",
      "Epoch 12/100\n",
      "60000/60000 [==============================] - 1s 13us/sample - loss: 0.7370 - acc: 0.7505 - val_loss: 0.8023 - val_acc: 0.7325\n",
      "Epoch 13/100\n",
      "60000/60000 [==============================] - 1s 13us/sample - loss: 0.7355 - acc: 0.7509 - val_loss: 0.7998 - val_acc: 0.7331\n",
      "Epoch 14/100\n",
      "60000/60000 [==============================] - 1s 13us/sample - loss: 0.7340 - acc: 0.7514 - val_loss: 0.7973 - val_acc: 0.7336\n",
      "Epoch 15/100\n",
      "60000/60000 [==============================] - 1s 13us/sample - loss: 0.7325 - acc: 0.7521 - val_loss: 0.7949 - val_acc: 0.7336\n",
      "Epoch 16/100\n",
      "60000/60000 [==============================] - 1s 13us/sample - loss: 0.7311 - acc: 0.7525 - val_loss: 0.7926 - val_acc: 0.7343\n",
      "Epoch 17/100\n",
      "60000/60000 [==============================] - 1s 13us/sample - loss: 0.7296 - acc: 0.7530 - val_loss: 0.7903 - val_acc: 0.7351\n",
      "Epoch 18/100\n",
      "60000/60000 [==============================] - 1s 13us/sample - loss: 0.7282 - acc: 0.7536 - val_loss: 0.7880 - val_acc: 0.7356\n",
      "Epoch 19/100\n",
      "60000/60000 [==============================] - 1s 13us/sample - loss: 0.7268 - acc: 0.7539 - val_loss: 0.7858 - val_acc: 0.7360\n",
      "Epoch 20/100\n",
      "60000/60000 [==============================] - 1s 13us/sample - loss: 0.7253 - acc: 0.7546 - val_loss: 0.7836 - val_acc: 0.7361\n",
      "Epoch 21/100\n",
      "60000/60000 [==============================] - 1s 14us/sample - loss: 0.7240 - acc: 0.7549 - val_loss: 0.7814 - val_acc: 0.7366\n",
      "Epoch 22/100\n",
      "60000/60000 [==============================] - 1s 13us/sample - loss: 0.7226 - acc: 0.7554 - val_loss: 0.7793 - val_acc: 0.7368\n",
      "Epoch 23/100\n",
      "60000/60000 [==============================] - 1s 14us/sample - loss: 0.7212 - acc: 0.7560 - val_loss: 0.7772 - val_acc: 0.7379\n",
      "Epoch 24/100\n",
      "60000/60000 [==============================] - 1s 13us/sample - loss: 0.7199 - acc: 0.7565 - val_loss: 0.7752 - val_acc: 0.7384\n",
      "Epoch 25/100\n",
      "60000/60000 [==============================] - 1s 14us/sample - loss: 0.7186 - acc: 0.7571 - val_loss: 0.7732 - val_acc: 0.7383\n",
      "Epoch 26/100\n",
      "60000/60000 [==============================] - 1s 13us/sample - loss: 0.7173 - acc: 0.7574 - val_loss: 0.7712 - val_acc: 0.7389\n",
      "Epoch 27/100\n",
      "60000/60000 [==============================] - 1s 14us/sample - loss: 0.7160 - acc: 0.7580 - val_loss: 0.7692 - val_acc: 0.7396\n",
      "Epoch 28/100\n",
      "60000/60000 [==============================] - 1s 13us/sample - loss: 0.7147 - acc: 0.7586 - val_loss: 0.7673 - val_acc: 0.7400\n",
      "Epoch 29/100\n",
      "60000/60000 [==============================] - 1s 13us/sample - loss: 0.7134 - acc: 0.7590 - val_loss: 0.7654 - val_acc: 0.7410\n",
      "Epoch 30/100\n",
      "60000/60000 [==============================] - 1s 13us/sample - loss: 0.7122 - acc: 0.7593 - val_loss: 0.7636 - val_acc: 0.7414\n",
      "Epoch 31/100\n",
      "60000/60000 [==============================] - 1s 14us/sample - loss: 0.7110 - acc: 0.7598 - val_loss: 0.7617 - val_acc: 0.7415\n",
      "Epoch 32/100\n",
      "60000/60000 [==============================] - 1s 13us/sample - loss: 0.7097 - acc: 0.7602 - val_loss: 0.7599 - val_acc: 0.7416\n",
      "Epoch 33/100\n",
      "60000/60000 [==============================] - 1s 13us/sample - loss: 0.7085 - acc: 0.7605 - val_loss: 0.7582 - val_acc: 0.7419\n",
      "Epoch 34/100\n",
      "60000/60000 [==============================] - 1s 13us/sample - loss: 0.7073 - acc: 0.7608 - val_loss: 0.7564 - val_acc: 0.7420\n",
      "Epoch 35/100\n",
      "60000/60000 [==============================] - 1s 14us/sample - loss: 0.7061 - acc: 0.7610 - val_loss: 0.7547 - val_acc: 0.7424\n",
      "Epoch 36/100\n",
      "60000/60000 [==============================] - 1s 13us/sample - loss: 0.7050 - acc: 0.7614 - val_loss: 0.7530 - val_acc: 0.7424\n",
      "Epoch 37/100\n",
      "60000/60000 [==============================] - 1s 14us/sample - loss: 0.7038 - acc: 0.7617 - val_loss: 0.7514 - val_acc: 0.7428\n",
      "Epoch 38/100\n",
      "60000/60000 [==============================] - 1s 14us/sample - loss: 0.7027 - acc: 0.7620 - val_loss: 0.7497 - val_acc: 0.7435\n",
      "Epoch 39/100\n",
      "60000/60000 [==============================] - 1s 14us/sample - loss: 0.7015 - acc: 0.7624 - val_loss: 0.7481 - val_acc: 0.7443\n",
      "Epoch 40/100\n",
      "60000/60000 [==============================] - 1s 13us/sample - loss: 0.7004 - acc: 0.7629 - val_loss: 0.7465 - val_acc: 0.7446\n",
      "Epoch 41/100\n",
      "60000/60000 [==============================] - 1s 13us/sample - loss: 0.6993 - acc: 0.7633 - val_loss: 0.7450 - val_acc: 0.7450\n",
      "Epoch 42/100\n",
      "60000/60000 [==============================] - 1s 13us/sample - loss: 0.6982 - acc: 0.7636 - val_loss: 0.7434 - val_acc: 0.7455\n",
      "Epoch 43/100\n",
      "60000/60000 [==============================] - 1s 13us/sample - loss: 0.6971 - acc: 0.7639 - val_loss: 0.7419 - val_acc: 0.7458\n",
      "Epoch 44/100\n",
      "60000/60000 [==============================] - 1s 13us/sample - loss: 0.6960 - acc: 0.7642 - val_loss: 0.7404 - val_acc: 0.7458\n",
      "Epoch 45/100\n",
      "60000/60000 [==============================] - 1s 13us/sample - loss: 0.6949 - acc: 0.7646 - val_loss: 0.7389 - val_acc: 0.7467\n",
      "Epoch 46/100\n",
      "60000/60000 [==============================] - 1s 13us/sample - loss: 0.6939 - acc: 0.7652 - val_loss: 0.7375 - val_acc: 0.7471\n",
      "Epoch 47/100\n",
      "60000/60000 [==============================] - 1s 14us/sample - loss: 0.6928 - acc: 0.7655 - val_loss: 0.7361 - val_acc: 0.7474\n",
      "Epoch 48/100\n",
      "60000/60000 [==============================] - 1s 13us/sample - loss: 0.6918 - acc: 0.7659 - val_loss: 0.7347 - val_acc: 0.7473\n",
      "Epoch 49/100\n",
      "60000/60000 [==============================] - 1s 14us/sample - loss: 0.6908 - acc: 0.7660 - val_loss: 0.7333 - val_acc: 0.7475\n",
      "Epoch 50/100\n",
      "60000/60000 [==============================] - 1s 13us/sample - loss: 0.6897 - acc: 0.7664 - val_loss: 0.7319 - val_acc: 0.7481\n",
      "Epoch 51/100\n",
      "60000/60000 [==============================] - 1s 13us/sample - loss: 0.6887 - acc: 0.7666 - val_loss: 0.7305 - val_acc: 0.7486\n",
      "Epoch 52/100\n",
      "60000/60000 [==============================] - 1s 13us/sample - loss: 0.6877 - acc: 0.7669 - val_loss: 0.7292 - val_acc: 0.7491\n",
      "Epoch 53/100\n",
      "60000/60000 [==============================] - 1s 14us/sample - loss: 0.6867 - acc: 0.7672 - val_loss: 0.7279 - val_acc: 0.7497\n",
      "Epoch 54/100\n",
      "60000/60000 [==============================] - 1s 13us/sample - loss: 0.6857 - acc: 0.7675 - val_loss: 0.7266 - val_acc: 0.7502\n",
      "Epoch 55/100\n",
      "60000/60000 [==============================] - 1s 14us/sample - loss: 0.6848 - acc: 0.7678 - val_loss: 0.7253 - val_acc: 0.7507\n",
      "Epoch 56/100\n",
      "60000/60000 [==============================] - 1s 13us/sample - loss: 0.6838 - acc: 0.7681 - val_loss: 0.7241 - val_acc: 0.7513\n",
      "Epoch 57/100\n",
      "60000/60000 [==============================] - 1s 14us/sample - loss: 0.6828 - acc: 0.7685 - val_loss: 0.7228 - val_acc: 0.7521\n",
      "Epoch 58/100\n",
      "60000/60000 [==============================] - 1s 13us/sample - loss: 0.6819 - acc: 0.7688 - val_loss: 0.7216 - val_acc: 0.7525\n",
      "Epoch 59/100\n",
      "60000/60000 [==============================] - 1s 13us/sample - loss: 0.6810 - acc: 0.7690 - val_loss: 0.7204 - val_acc: 0.7527\n",
      "Epoch 60/100\n",
      "60000/60000 [==============================] - 1s 13us/sample - loss: 0.6800 - acc: 0.7692 - val_loss: 0.7192 - val_acc: 0.7527\n",
      "Epoch 61/100\n",
      "60000/60000 [==============================] - 1s 13us/sample - loss: 0.6791 - acc: 0.7695 - val_loss: 0.7180 - val_acc: 0.7532\n",
      "Epoch 62/100\n",
      "60000/60000 [==============================] - 1s 13us/sample - loss: 0.6782 - acc: 0.7699 - val_loss: 0.7169 - val_acc: 0.7538\n",
      "Epoch 63/100\n",
      "60000/60000 [==============================] - 1s 14us/sample - loss: 0.6773 - acc: 0.7702 - val_loss: 0.7157 - val_acc: 0.7540\n",
      "Epoch 64/100\n",
      "60000/60000 [==============================] - 1s 13us/sample - loss: 0.6764 - acc: 0.7704 - val_loss: 0.7146 - val_acc: 0.7547\n",
      "Epoch 65/100\n",
      "60000/60000 [==============================] - 1s 14us/sample - loss: 0.6755 - acc: 0.7707 - val_loss: 0.7135 - val_acc: 0.7552\n",
      "Epoch 66/100\n",
      "60000/60000 [==============================] - 1s 13us/sample - loss: 0.6746 - acc: 0.7710 - val_loss: 0.7124 - val_acc: 0.7553\n",
      "Epoch 67/100\n",
      "60000/60000 [==============================] - 1s 14us/sample - loss: 0.6737 - acc: 0.7712 - val_loss: 0.7113 - val_acc: 0.7551\n",
      "Epoch 68/100\n",
      "60000/60000 [==============================] - 1s 14us/sample - loss: 0.6728 - acc: 0.7715 - val_loss: 0.7102 - val_acc: 0.7552\n",
      "Epoch 69/100\n",
      "60000/60000 [==============================] - 1s 13us/sample - loss: 0.6720 - acc: 0.7718 - val_loss: 0.7091 - val_acc: 0.7555\n",
      "Epoch 70/100\n",
      "60000/60000 [==============================] - 1s 13us/sample - loss: 0.6711 - acc: 0.7721 - val_loss: 0.7081 - val_acc: 0.7554\n",
      "Epoch 71/100\n",
      "60000/60000 [==============================] - 1s 13us/sample - loss: 0.6703 - acc: 0.7722 - val_loss: 0.7070 - val_acc: 0.7557\n",
      "Epoch 72/100\n",
      "60000/60000 [==============================] - 1s 13us/sample - loss: 0.6694 - acc: 0.7725 - val_loss: 0.7060 - val_acc: 0.7561\n",
      "Epoch 73/100\n",
      "60000/60000 [==============================] - 1s 13us/sample - loss: 0.6686 - acc: 0.7728 - val_loss: 0.7050 - val_acc: 0.7564\n",
      "Epoch 74/100\n",
      "60000/60000 [==============================] - 1s 13us/sample - loss: 0.6678 - acc: 0.7730 - val_loss: 0.7040 - val_acc: 0.7565\n",
      "Epoch 75/100\n",
      "60000/60000 [==============================] - 1s 14us/sample - loss: 0.6670 - acc: 0.7734 - val_loss: 0.7030 - val_acc: 0.7568\n",
      "Epoch 76/100\n",
      "60000/60000 [==============================] - 1s 13us/sample - loss: 0.6661 - acc: 0.7735 - val_loss: 0.7020 - val_acc: 0.7572\n",
      "Epoch 77/100\n",
      "60000/60000 [==============================] - 1s 13us/sample - loss: 0.6653 - acc: 0.7739 - val_loss: 0.7011 - val_acc: 0.7576\n",
      "Epoch 78/100\n",
      "60000/60000 [==============================] - 1s 13us/sample - loss: 0.6645 - acc: 0.7740 - val_loss: 0.7001 - val_acc: 0.7583\n",
      "Epoch 79/100\n",
      "60000/60000 [==============================] - 1s 13us/sample - loss: 0.6637 - acc: 0.7743 - val_loss: 0.6992 - val_acc: 0.7587\n",
      "Epoch 80/100\n",
      "60000/60000 [==============================] - 1s 13us/sample - loss: 0.6629 - acc: 0.7746 - val_loss: 0.6982 - val_acc: 0.7593\n",
      "Epoch 81/100\n",
      "60000/60000 [==============================] - 1s 13us/sample - loss: 0.6622 - acc: 0.7748 - val_loss: 0.6973 - val_acc: 0.7592\n",
      "Epoch 82/100\n",
      "60000/60000 [==============================] - 1s 13us/sample - loss: 0.6614 - acc: 0.7751 - val_loss: 0.6964 - val_acc: 0.7599\n",
      "Epoch 83/100\n",
      "60000/60000 [==============================] - 1s 13us/sample - loss: 0.6606 - acc: 0.7754 - val_loss: 0.6955 - val_acc: 0.7603\n",
      "Epoch 84/100\n",
      "60000/60000 [==============================] - 1s 13us/sample - loss: 0.6599 - acc: 0.7757 - val_loss: 0.6946 - val_acc: 0.7607\n",
      "Epoch 85/100\n",
      "60000/60000 [==============================] - 1s 13us/sample - loss: 0.6591 - acc: 0.7760 - val_loss: 0.6937 - val_acc: 0.7612\n",
      "Epoch 86/100\n",
      "60000/60000 [==============================] - 1s 13us/sample - loss: 0.6583 - acc: 0.7762 - val_loss: 0.6929 - val_acc: 0.7614\n",
      "Epoch 87/100\n",
      "60000/60000 [==============================] - 1s 14us/sample - loss: 0.6576 - acc: 0.7764 - val_loss: 0.6920 - val_acc: 0.7615\n",
      "Epoch 88/100\n",
      "60000/60000 [==============================] - 1s 13us/sample - loss: 0.6569 - acc: 0.7766 - val_loss: 0.6911 - val_acc: 0.7618\n",
      "Epoch 89/100\n",
      "60000/60000 [==============================] - 1s 14us/sample - loss: 0.6561 - acc: 0.7769 - val_loss: 0.6903 - val_acc: 0.7623\n",
      "Epoch 90/100\n",
      "60000/60000 [==============================] - 1s 13us/sample - loss: 0.6554 - acc: 0.7772 - val_loss: 0.6895 - val_acc: 0.7627\n",
      "Epoch 91/100\n",
      "60000/60000 [==============================] - 1s 13us/sample - loss: 0.6547 - acc: 0.7774 - val_loss: 0.6886 - val_acc: 0.7630\n",
      "Epoch 92/100\n",
      "60000/60000 [==============================] - 1s 13us/sample - loss: 0.6539 - acc: 0.7776 - val_loss: 0.6878 - val_acc: 0.7634\n",
      "Epoch 93/100\n",
      "60000/60000 [==============================] - 1s 13us/sample - loss: 0.6532 - acc: 0.7780 - val_loss: 0.6870 - val_acc: 0.7633\n",
      "Epoch 94/100\n",
      "60000/60000 [==============================] - 1s 13us/sample - loss: 0.6525 - acc: 0.7782 - val_loss: 0.6862 - val_acc: 0.7633\n",
      "Epoch 95/100\n",
      "60000/60000 [==============================] - 1s 13us/sample - loss: 0.6518 - acc: 0.7786 - val_loss: 0.6854 - val_acc: 0.7635\n",
      "Epoch 96/100\n",
      "60000/60000 [==============================] - 1s 13us/sample - loss: 0.6511 - acc: 0.7789 - val_loss: 0.6846 - val_acc: 0.7637\n",
      "Epoch 97/100\n",
      "60000/60000 [==============================] - 1s 13us/sample - loss: 0.6504 - acc: 0.7792 - val_loss: 0.6839 - val_acc: 0.7640\n",
      "Epoch 98/100\n",
      "60000/60000 [==============================] - 1s 13us/sample - loss: 0.6497 - acc: 0.7794 - val_loss: 0.6831 - val_acc: 0.7640\n",
      "Epoch 99/100\n",
      "60000/60000 [==============================] - 1s 13us/sample - loss: 0.6490 - acc: 0.7798 - val_loss: 0.6823 - val_acc: 0.7646\n",
      "Epoch 100/100\n",
      "60000/60000 [==============================] - 1s 13us/sample - loss: 0.6484 - acc: 0.7801 - val_loss: 0.6816 - val_acc: 0.7648\n"
     ]
    },
    {
     "data": {
      "text/plain": [
       "<tensorflow.python.keras.callbacks.History at 0x7f58f37b8d68>"
      ]
     },
     "execution_count": 25,
     "metadata": {
      "tags": []
     },
     "output_type": "execute_result"
    }
   ],
   "source": [
    "sgd_optimizer = tf.keras.optimizers.SGD(lr=0.01)\n",
    "\n",
    "model.fit(trainX, trainY, \n",
    "          validation_data=(testX, testY), \n",
    "          epochs=100,\n",
    "          batch_size=trainX.shape[0])"
   ]
  },
  {
   "cell_type": "code",
   "execution_count": 0,
   "metadata": {
    "colab": {},
    "colab_type": "code",
    "id": "pJUqA5T4OIVc"
   },
   "outputs": [],
   "source": []
  },
  {
   "cell_type": "markdown",
   "metadata": {
    "colab_type": "text",
    "id": "j9CSqKvpOIVk"
   },
   "source": [
    "### Build the Neural Network model with 3 Dense layers with 100,100,10 neurons respectively in each layer. Use cross entropy loss function and singmoid as activation in the hidden layers and softmax as activation function in the output layer. Use sgd optimizer with learning rate 0.03."
   ]
  },
  {
   "cell_type": "code",
   "execution_count": 20,
   "metadata": {
    "colab": {},
    "colab_type": "code",
    "id": "hr8CH6OO6dYr"
   },
   "outputs": [],
   "source": [
    "\n",
    "trainX = trainX.astype('float32')\n",
    "trainY = trainY.astype('float32')\n",
    "\n",
    "#Initialize Sequential model\n",
    "model = tf.keras.models.Sequential()\n",
    "\n",
    "#Reshape data from 2D to 1D -> 28x28 to 784\n",
    "model.add(tf.keras.layers.Reshape((784,),input_shape=(28,28,)))\n",
    "\n",
    "#Normalize the data\n",
    "model.add(tf.keras.layers.BatchNormalization())"
   ]
  },
  {
   "cell_type": "code",
   "execution_count": 21,
   "metadata": {
    "colab": {},
    "colab_type": "code",
    "id": "GGAad54JOIVm"
   },
   "outputs": [],
   "source": [
    "#Add 1st hidden layer\n",
    "model.add(tf.keras.layers.Dense(200, activation='sigmoid'))\n",
    "\n",
    "#Add 2nd hidden layer\n",
    "model.add(tf.keras.layers.Dense(100, activation='sigmoid'))\n",
    "\n",
    "#Add OUTPUT layer\n",
    "model.add(tf.keras.layers.Dense(10, activation='softmax'))"
   ]
  },
  {
   "cell_type": "code",
   "execution_count": 22,
   "metadata": {
    "colab": {},
    "colab_type": "code",
    "id": "MQ7oIymROIVp"
   },
   "outputs": [],
   "source": [
    "#Compile the model\n",
    "model.compile(optimizer='sgd', loss='categorical_crossentropy', \n",
    "              metrics=['accuracy'])"
   ]
  },
  {
   "cell_type": "code",
   "execution_count": 23,
   "metadata": {
    "colab": {
     "base_uri": "https://localhost:8080/",
     "height": 585
    },
    "colab_type": "code",
    "id": "X-O-fFxnOIVt",
    "outputId": "c0ffe34e-566a-4b3f-c695-cb226229af51"
   },
   "outputs": [
    {
     "name": "stdout",
     "output_type": "stream",
     "text": [
      "Train on 60000 samples, validate on 10000 samples\n",
      "Epoch 1/15\n",
      "60000/60000 [==============================] - 12s 204us/sample - loss: 1.4210 - acc: 0.6284 - val_loss: 0.9088 - val_acc: 0.7329\n",
      "Epoch 2/15\n",
      "60000/60000 [==============================] - 11s 176us/sample - loss: 0.7870 - acc: 0.7462 - val_loss: 0.6865 - val_acc: 0.7630\n",
      "Epoch 3/15\n",
      "60000/60000 [==============================] - 11s 177us/sample - loss: 0.6537 - acc: 0.7716 - val_loss: 0.6063 - val_acc: 0.7816\n",
      "Epoch 4/15\n",
      "60000/60000 [==============================] - 11s 179us/sample - loss: 0.5888 - acc: 0.7920 - val_loss: 0.5573 - val_acc: 0.7995\n",
      "Epoch 5/15\n",
      "60000/60000 [==============================] - 11s 176us/sample - loss: 0.5445 - acc: 0.8071 - val_loss: 0.5251 - val_acc: 0.8106\n",
      "Epoch 6/15\n",
      "60000/60000 [==============================] - 11s 177us/sample - loss: 0.5156 - acc: 0.8171 - val_loss: 0.5018 - val_acc: 0.8203\n",
      "Epoch 7/15\n",
      "60000/60000 [==============================] - 11s 178us/sample - loss: 0.4955 - acc: 0.8251 - val_loss: 0.4863 - val_acc: 0.8263\n",
      "Epoch 8/15\n",
      "60000/60000 [==============================] - 11s 179us/sample - loss: 0.4770 - acc: 0.8297 - val_loss: 0.4727 - val_acc: 0.8300\n",
      "Epoch 9/15\n",
      "60000/60000 [==============================] - 11s 176us/sample - loss: 0.4624 - acc: 0.8359 - val_loss: 0.4624 - val_acc: 0.8344\n",
      "Epoch 10/15\n",
      "60000/60000 [==============================] - 11s 184us/sample - loss: 0.4531 - acc: 0.8384 - val_loss: 0.4538 - val_acc: 0.8356\n",
      "Epoch 11/15\n",
      "60000/60000 [==============================] - 11s 176us/sample - loss: 0.4447 - acc: 0.8429 - val_loss: 0.4459 - val_acc: 0.8387\n",
      "Epoch 12/15\n",
      "60000/60000 [==============================] - 11s 176us/sample - loss: 0.4362 - acc: 0.8446 - val_loss: 0.4401 - val_acc: 0.8406\n",
      "Epoch 13/15\n",
      "60000/60000 [==============================] - 12s 195us/sample - loss: 0.4278 - acc: 0.8477 - val_loss: 0.4342 - val_acc: 0.8429\n",
      "Epoch 14/15\n",
      "60000/60000 [==============================] - 11s 184us/sample - loss: 0.4220 - acc: 0.8499 - val_loss: 0.4300 - val_acc: 0.8444\n",
      "Epoch 15/15\n",
      "60000/60000 [==============================] - 11s 184us/sample - loss: 0.4176 - acc: 0.8519 - val_loss: 0.4239 - val_acc: 0.8467\n"
     ]
    },
    {
     "data": {
      "text/plain": [
       "<tensorflow.python.keras.callbacks.History at 0x18ca583e320>"
      ]
     },
     "execution_count": 23,
     "metadata": {},
     "output_type": "execute_result"
    }
   ],
   "source": [
    "model.fit(trainX,trainY,          \n",
    "          validation_data=(testX,testY),\n",
    "          epochs=15,\n",
    "          batch_size=32)"
   ]
  },
  {
   "cell_type": "code",
   "execution_count": 0,
   "metadata": {
    "colab": {},
    "colab_type": "code",
    "id": "BiP7IL52OIVw"
   },
   "outputs": [],
   "source": []
  },
  {
   "cell_type": "markdown",
   "metadata": {
    "colab_type": "text",
    "id": "Nr2YsZV0OIV0"
   },
   "source": [
    "## Review model"
   ]
  },
  {
   "cell_type": "code",
   "execution_count": 24,
   "metadata": {
    "colab": {},
    "colab_type": "code",
    "id": "h4ojW6-oOIV2"
   },
   "outputs": [],
   "source": [
    "##As Per the Model the Accuracy reached  from 73% to  84% and Loss reduced from 0.90 to 0.42"
   ]
  },
  {
   "cell_type": "code",
   "execution_count": 25,
   "metadata": {
    "colab": {
     "base_uri": "https://localhost:8080/",
     "height": 336
    },
    "colab_type": "code",
    "id": "pjSBb5bY7w7N",
    "outputId": "2f9d20e1-d8d7-47df-ea21-014430dc6c9b"
   },
   "outputs": [
    {
     "name": "stdout",
     "output_type": "stream",
     "text": [
      "_________________________________________________________________\n",
      "Layer (type)                 Output Shape              Param #   \n",
      "=================================================================\n",
      "reshape_1 (Reshape)          (None, 784)               0         \n",
      "_________________________________________________________________\n",
      "batch_normalization_v1_1 (Ba (None, 784)               3136      \n",
      "_________________________________________________________________\n",
      "dense_1 (Dense)              (None, 200)               157000    \n",
      "_________________________________________________________________\n",
      "dense_2 (Dense)              (None, 100)               20100     \n",
      "_________________________________________________________________\n",
      "dense_3 (Dense)              (None, 10)                1010      \n",
      "=================================================================\n",
      "Total params: 181,246\n",
      "Trainable params: 179,678\n",
      "Non-trainable params: 1,568\n",
      "_________________________________________________________________\n"
     ]
    }
   ],
   "source": [
    "model.summary()"
   ]
  },
  {
   "cell_type": "markdown",
   "metadata": {
    "colab_type": "text",
    "id": "gfFGmbZLOIV5"
   },
   "source": [
    "### Run the model"
   ]
  },
  {
   "cell_type": "code",
   "execution_count": 26,
   "metadata": {
    "colab": {},
    "colab_type": "code",
    "id": "bIkbMEN5OIV7"
   },
   "outputs": [],
   "source": [
    "##Saving the Model\n",
    "model.save('mnist_lc_v2.h2')"
   ]
  }
 ],
 "metadata": {
  "colab": {
   "collapsed_sections": [],
   "name": "R6_ExternalLab_AIML.ipynb",
   "provenance": [],
   "toc_visible": true
  },
  "kernelspec": {
   "display_name": "Python 3",
   "language": "python",
   "name": "python3"
  },
  "language_info": {
   "codemirror_mode": {
    "name": "ipython",
    "version": 3
   },
   "file_extension": ".py",
   "mimetype": "text/x-python",
   "name": "python",
   "nbconvert_exporter": "python",
   "pygments_lexer": "ipython3",
   "version": "3.7.1"
  }
 },
 "nbformat": 4,
 "nbformat_minor": 1
}
