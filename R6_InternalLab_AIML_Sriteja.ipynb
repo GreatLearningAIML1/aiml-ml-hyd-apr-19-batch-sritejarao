{
 "cells": [
  {
   "cell_type": "markdown",
   "metadata": {
    "colab_type": "text",
    "id": "sb7Epo0VOB58"
   },
   "source": [
    "### Load tensorflow"
   ]
  },
  {
   "cell_type": "code",
   "execution_count": 1,
   "metadata": {
    "colab": {},
    "colab_type": "code",
    "id": "fHpCNRv1OB5-"
   },
   "outputs": [],
   "source": [
    "import tensorflow as tf"
   ]
  },
  {
   "cell_type": "code",
   "execution_count": 2,
   "metadata": {},
   "outputs": [],
   "source": [
    "from sklearn.preprocessing import Normalizer"
   ]
  },
  {
   "cell_type": "markdown",
   "metadata": {},
   "source": [
    "### Enable Eager Execution if you are using tensorflow 1.x"
   ]
  },
  {
   "cell_type": "code",
   "execution_count": 3,
   "metadata": {},
   "outputs": [],
   "source": [
    "# Enable Eager Execution\n",
    "tf.enable_eager_execution()"
   ]
  },
  {
   "cell_type": "code",
   "execution_count": null,
   "metadata": {
    "colab": {},
    "colab_type": "code",
    "id": "tnSsH8sNOB6F",
    "slideshow": {
     "slide_type": "fragment"
    }
   },
   "outputs": [],
   "source": []
  },
  {
   "cell_type": "markdown",
   "metadata": {
    "colab_type": "text",
    "id": "DxJDmJqqOB6K",
    "slideshow": {
     "slide_type": "slide"
    }
   },
   "source": [
    "### Collect Data"
   ]
  },
  {
   "cell_type": "code",
   "execution_count": 4,
   "metadata": {
    "colab": {},
    "colab_type": "code",
    "id": "FhllFLyKOB6N"
   },
   "outputs": [],
   "source": [
    "import pandas as pd"
   ]
  },
  {
   "cell_type": "code",
   "execution_count": 25,
   "metadata": {
    "colab": {},
    "colab_type": "code",
    "id": "B4yQKMiJOB6R"
   },
   "outputs": [],
   "source": [
    "data = pd.read_csv('prices.csv')"
   ]
  },
  {
   "cell_type": "code",
   "execution_count": 26,
   "metadata": {},
   "outputs": [
    {
     "data": {
      "text/plain": [
       "Index(['date', 'symbol', 'open', 'close', 'low', 'high', 'volume'], dtype='object')"
      ]
     },
     "execution_count": 26,
     "metadata": {},
     "output_type": "execute_result"
    }
   ],
   "source": [
    "data.columns"
   ]
  },
  {
   "cell_type": "markdown",
   "metadata": {
    "colab_type": "text",
    "id": "fgkX6SEqOB6W"
   },
   "source": [
    "### Check all columns in the dataset"
   ]
  },
  {
   "cell_type": "code",
   "execution_count": 27,
   "metadata": {
    "colab": {},
    "colab_type": "code",
    "id": "7K8pWsNQOB6X"
   },
   "outputs": [
    {
     "data": {
      "text/plain": [
       "date       object\n",
       "symbol     object\n",
       "open      float64\n",
       "close     float64\n",
       "low       float64\n",
       "high      float64\n",
       "volume    float64\n",
       "dtype: object"
      ]
     },
     "execution_count": 27,
     "metadata": {},
     "output_type": "execute_result"
    }
   ],
   "source": [
    "data.dtypes"
   ]
  },
  {
   "cell_type": "code",
   "execution_count": 8,
   "metadata": {},
   "outputs": [
    {
     "data": {
      "text/plain": [
       "Index(['date', 'symbol', 'open', 'close', 'low', 'high', 'volume'], dtype='object')"
      ]
     },
     "execution_count": 8,
     "metadata": {},
     "output_type": "execute_result"
    }
   ],
   "source": [
    "data.columns"
   ]
  },
  {
   "cell_type": "code",
   "execution_count": 28,
   "metadata": {},
   "outputs": [
    {
     "data": {
      "text/html": [
       "<div>\n",
       "<style scoped>\n",
       "    .dataframe tbody tr th:only-of-type {\n",
       "        vertical-align: middle;\n",
       "    }\n",
       "\n",
       "    .dataframe tbody tr th {\n",
       "        vertical-align: top;\n",
       "    }\n",
       "\n",
       "    .dataframe thead th {\n",
       "        text-align: right;\n",
       "    }\n",
       "</style>\n",
       "<table border=\"1\" class=\"dataframe\">\n",
       "  <thead>\n",
       "    <tr style=\"text-align: right;\">\n",
       "      <th></th>\n",
       "      <th>date</th>\n",
       "      <th>symbol</th>\n",
       "      <th>open</th>\n",
       "      <th>close</th>\n",
       "      <th>low</th>\n",
       "      <th>high</th>\n",
       "      <th>volume</th>\n",
       "    </tr>\n",
       "  </thead>\n",
       "  <tbody>\n",
       "    <tr>\n",
       "      <th>0</th>\n",
       "      <td>2016-01-05 00:00:00</td>\n",
       "      <td>WLTW</td>\n",
       "      <td>123.430000</td>\n",
       "      <td>125.839996</td>\n",
       "      <td>122.309998</td>\n",
       "      <td>126.250000</td>\n",
       "      <td>2163600.0</td>\n",
       "    </tr>\n",
       "    <tr>\n",
       "      <th>1</th>\n",
       "      <td>2016-01-06 00:00:00</td>\n",
       "      <td>WLTW</td>\n",
       "      <td>125.239998</td>\n",
       "      <td>119.980003</td>\n",
       "      <td>119.940002</td>\n",
       "      <td>125.540001</td>\n",
       "      <td>2386400.0</td>\n",
       "    </tr>\n",
       "    <tr>\n",
       "      <th>2</th>\n",
       "      <td>2016-01-07 00:00:00</td>\n",
       "      <td>WLTW</td>\n",
       "      <td>116.379997</td>\n",
       "      <td>114.949997</td>\n",
       "      <td>114.930000</td>\n",
       "      <td>119.739998</td>\n",
       "      <td>2489500.0</td>\n",
       "    </tr>\n",
       "    <tr>\n",
       "      <th>3</th>\n",
       "      <td>2016-01-08 00:00:00</td>\n",
       "      <td>WLTW</td>\n",
       "      <td>115.480003</td>\n",
       "      <td>116.620003</td>\n",
       "      <td>113.500000</td>\n",
       "      <td>117.440002</td>\n",
       "      <td>2006300.0</td>\n",
       "    </tr>\n",
       "    <tr>\n",
       "      <th>4</th>\n",
       "      <td>2016-01-11 00:00:00</td>\n",
       "      <td>WLTW</td>\n",
       "      <td>117.010002</td>\n",
       "      <td>114.970001</td>\n",
       "      <td>114.089996</td>\n",
       "      <td>117.330002</td>\n",
       "      <td>1408600.0</td>\n",
       "    </tr>\n",
       "  </tbody>\n",
       "</table>\n",
       "</div>"
      ],
      "text/plain": [
       "                  date symbol        open       close         low        high  \\\n",
       "0  2016-01-05 00:00:00   WLTW  123.430000  125.839996  122.309998  126.250000   \n",
       "1  2016-01-06 00:00:00   WLTW  125.239998  119.980003  119.940002  125.540001   \n",
       "2  2016-01-07 00:00:00   WLTW  116.379997  114.949997  114.930000  119.739998   \n",
       "3  2016-01-08 00:00:00   WLTW  115.480003  116.620003  113.500000  117.440002   \n",
       "4  2016-01-11 00:00:00   WLTW  117.010002  114.970001  114.089996  117.330002   \n",
       "\n",
       "      volume  \n",
       "0  2163600.0  \n",
       "1  2386400.0  \n",
       "2  2489500.0  \n",
       "3  2006300.0  \n",
       "4  1408600.0  "
      ]
     },
     "execution_count": 28,
     "metadata": {},
     "output_type": "execute_result"
    }
   ],
   "source": [
    "data.head()"
   ]
  },
  {
   "cell_type": "markdown",
   "metadata": {
    "colab_type": "text",
    "id": "7dU6X7MpOB6c"
   },
   "source": [
    "### Drop columns `date` and  `symbol`"
   ]
  },
  {
   "cell_type": "code",
   "execution_count": 29,
   "metadata": {
    "colab": {},
    "colab_type": "code",
    "id": "lh_6spSKOB6e"
   },
   "outputs": [],
   "source": [
    "data = data.drop(columns=['date','symbol'], axis = 1)"
   ]
  },
  {
   "cell_type": "code",
   "execution_count": 30,
   "metadata": {
    "colab": {},
    "colab_type": "code",
    "id": "xlwbUgTwOB6i",
    "outputId": "56bad82a-f271-415a-e0d6-cbe1c4290743"
   },
   "outputs": [
    {
     "data": {
      "text/html": [
       "<div>\n",
       "<style scoped>\n",
       "    .dataframe tbody tr th:only-of-type {\n",
       "        vertical-align: middle;\n",
       "    }\n",
       "\n",
       "    .dataframe tbody tr th {\n",
       "        vertical-align: top;\n",
       "    }\n",
       "\n",
       "    .dataframe thead th {\n",
       "        text-align: right;\n",
       "    }\n",
       "</style>\n",
       "<table border=\"1\" class=\"dataframe\">\n",
       "  <thead>\n",
       "    <tr style=\"text-align: right;\">\n",
       "      <th></th>\n",
       "      <th>open</th>\n",
       "      <th>close</th>\n",
       "      <th>low</th>\n",
       "      <th>high</th>\n",
       "      <th>volume</th>\n",
       "    </tr>\n",
       "  </thead>\n",
       "  <tbody>\n",
       "    <tr>\n",
       "      <th>0</th>\n",
       "      <td>123.430000</td>\n",
       "      <td>125.839996</td>\n",
       "      <td>122.309998</td>\n",
       "      <td>126.250000</td>\n",
       "      <td>2163600.0</td>\n",
       "    </tr>\n",
       "    <tr>\n",
       "      <th>1</th>\n",
       "      <td>125.239998</td>\n",
       "      <td>119.980003</td>\n",
       "      <td>119.940002</td>\n",
       "      <td>125.540001</td>\n",
       "      <td>2386400.0</td>\n",
       "    </tr>\n",
       "    <tr>\n",
       "      <th>2</th>\n",
       "      <td>116.379997</td>\n",
       "      <td>114.949997</td>\n",
       "      <td>114.930000</td>\n",
       "      <td>119.739998</td>\n",
       "      <td>2489500.0</td>\n",
       "    </tr>\n",
       "    <tr>\n",
       "      <th>3</th>\n",
       "      <td>115.480003</td>\n",
       "      <td>116.620003</td>\n",
       "      <td>113.500000</td>\n",
       "      <td>117.440002</td>\n",
       "      <td>2006300.0</td>\n",
       "    </tr>\n",
       "    <tr>\n",
       "      <th>4</th>\n",
       "      <td>117.010002</td>\n",
       "      <td>114.970001</td>\n",
       "      <td>114.089996</td>\n",
       "      <td>117.330002</td>\n",
       "      <td>1408600.0</td>\n",
       "    </tr>\n",
       "  </tbody>\n",
       "</table>\n",
       "</div>"
      ],
      "text/plain": [
       "         open       close         low        high     volume\n",
       "0  123.430000  125.839996  122.309998  126.250000  2163600.0\n",
       "1  125.239998  119.980003  119.940002  125.540001  2386400.0\n",
       "2  116.379997  114.949997  114.930000  119.739998  2489500.0\n",
       "3  115.480003  116.620003  113.500000  117.440002  2006300.0\n",
       "4  117.010002  114.970001  114.089996  117.330002  1408600.0"
      ]
     },
     "execution_count": 30,
     "metadata": {},
     "output_type": "execute_result"
    }
   ],
   "source": [
    "data.head()"
   ]
  },
  {
   "cell_type": "markdown",
   "metadata": {
    "colab_type": "text",
    "id": "3DBv3WWYOB6q"
   },
   "source": [
    "### Consider only first 1000 rows in the dataset for building feature set and target set"
   ]
  },
  {
   "cell_type": "code",
   "execution_count": 31,
   "metadata": {
    "colab": {},
    "colab_type": "code",
    "id": "Z_hG9rGBOB6s"
   },
   "outputs": [],
   "source": [
    "data = data.head(1000)"
   ]
  },
  {
   "cell_type": "code",
   "execution_count": 32,
   "metadata": {},
   "outputs": [
    {
     "data": {
      "text/plain": [
       "(1000, 5)"
      ]
     },
     "execution_count": 32,
     "metadata": {},
     "output_type": "execute_result"
    }
   ],
   "source": [
    "data.shape"
   ]
  },
  {
   "cell_type": "code",
   "execution_count": 33,
   "metadata": {},
   "outputs": [
    {
     "data": {
      "text/html": [
       "<div>\n",
       "<style scoped>\n",
       "    .dataframe tbody tr th:only-of-type {\n",
       "        vertical-align: middle;\n",
       "    }\n",
       "\n",
       "    .dataframe tbody tr th {\n",
       "        vertical-align: top;\n",
       "    }\n",
       "\n",
       "    .dataframe thead th {\n",
       "        text-align: right;\n",
       "    }\n",
       "</style>\n",
       "<table border=\"1\" class=\"dataframe\">\n",
       "  <thead>\n",
       "    <tr style=\"text-align: right;\">\n",
       "      <th></th>\n",
       "      <th>open</th>\n",
       "      <th>close</th>\n",
       "      <th>low</th>\n",
       "      <th>high</th>\n",
       "      <th>volume</th>\n",
       "    </tr>\n",
       "  </thead>\n",
       "  <tbody>\n",
       "    <tr>\n",
       "      <th>593</th>\n",
       "      <td>32.389999</td>\n",
       "      <td>33.380001</td>\n",
       "      <td>32.380001</td>\n",
       "      <td>33.720001</td>\n",
       "      <td>712500.0</td>\n",
       "    </tr>\n",
       "    <tr>\n",
       "      <th>91</th>\n",
       "      <td>123.120003</td>\n",
       "      <td>123.910004</td>\n",
       "      <td>122.870003</td>\n",
       "      <td>124.610001</td>\n",
       "      <td>528500.0</td>\n",
       "    </tr>\n",
       "    <tr>\n",
       "      <th>373</th>\n",
       "      <td>75.480000</td>\n",
       "      <td>75.149998</td>\n",
       "      <td>74.500003</td>\n",
       "      <td>75.680000</td>\n",
       "      <td>5202600.0</td>\n",
       "    </tr>\n",
       "    <tr>\n",
       "      <th>991</th>\n",
       "      <td>14.200000</td>\n",
       "      <td>14.420000</td>\n",
       "      <td>14.120000</td>\n",
       "      <td>14.430000</td>\n",
       "      <td>3258700.0</td>\n",
       "    </tr>\n",
       "    <tr>\n",
       "      <th>919</th>\n",
       "      <td>3.680000</td>\n",
       "      <td>3.760000</td>\n",
       "      <td>3.650000</td>\n",
       "      <td>3.770000</td>\n",
       "      <td>21226600.0</td>\n",
       "    </tr>\n",
       "  </tbody>\n",
       "</table>\n",
       "</div>"
      ],
      "text/plain": [
       "           open       close         low        high      volume\n",
       "593   32.389999   33.380001   32.380001   33.720001    712500.0\n",
       "91   123.120003  123.910004  122.870003  124.610001    528500.0\n",
       "373   75.480000   75.149998   74.500003   75.680000   5202600.0\n",
       "991   14.200000   14.420000   14.120000   14.430000   3258700.0\n",
       "919    3.680000    3.760000    3.650000    3.770000  21226600.0"
      ]
     },
     "execution_count": 33,
     "metadata": {},
     "output_type": "execute_result"
    }
   ],
   "source": [
    "data.sample(5)"
   ]
  },
  {
   "cell_type": "markdown",
   "metadata": {},
   "source": [
    "### Convert Float64 to Float32"
   ]
  },
  {
   "cell_type": "code",
   "execution_count": 34,
   "metadata": {},
   "outputs": [],
   "source": [
    "data = data.astype('float32')"
   ]
  },
  {
   "cell_type": "markdown",
   "metadata": {
    "colab_type": "text",
    "id": "M3UaApqYOB6x"
   },
   "source": [
    "### Divide the data into train and test sets"
   ]
  },
  {
   "cell_type": "code",
   "execution_count": 35,
   "metadata": {
    "colab": {},
    "colab_type": "code",
    "id": "2EkKAy7fOB6y"
   },
   "outputs": [],
   "source": [
    "from sklearn.model_selection import train_test_split\n",
    "\n",
    "X1 = data.drop(columns= \"close\" , axis = 1) \n",
    "Y1 = data[\"close\"]\n"
   ]
  },
  {
   "cell_type": "markdown",
   "metadata": {},
   "source": [
    "### Normalize Train and Test Data "
   ]
  },
  {
   "cell_type": "code",
   "execution_count": 36,
   "metadata": {},
   "outputs": [],
   "source": [
    "\n",
    "\n",
    "train_x, test_x,train_y,test_y = train_test_split(X1, Y1, test_size=.3, random_state=7)"
   ]
  },
  {
   "cell_type": "code",
   "execution_count": 37,
   "metadata": {},
   "outputs": [],
   "source": [
    "import numpy as np\n",
    "transformer = Normalizer()\n",
    "train_X= transformer.fit_transform(train_x)\n",
    "train_Y= np.array(train_y)"
   ]
  },
  {
   "cell_type": "markdown",
   "metadata": {
    "colab_type": "text",
    "id": "v6vE4eYCOB62",
    "slideshow": {
     "slide_type": "slide"
    }
   },
   "source": [
    "## Building the graph in tensorflow"
   ]
  },
  {
   "cell_type": "markdown",
   "metadata": {
    "colab_type": "text",
    "id": "297_qja4OB7A",
    "slideshow": {
     "slide_type": "slide"
    }
   },
   "source": [
    "2.Define Weights and Bias"
   ]
  },
  {
   "cell_type": "code",
   "execution_count": 38,
   "metadata": {
    "colab": {},
    "colab_type": "code",
    "id": "L205qPeQOB7B"
   },
   "outputs": [],
   "source": [
    "#We are initializing weights and Bias with Zero\n",
    "w = tf.zeros(shape=(4,1))\n",
    "b = tf.zeros(shape=(1))"
   ]
  },
  {
   "cell_type": "markdown",
   "metadata": {
    "colab_type": "text",
    "id": "HgtWA-UIOB7F",
    "slideshow": {
     "slide_type": "slide"
    }
   },
   "source": [
    "3.Prediction"
   ]
  },
  {
   "cell_type": "code",
   "execution_count": 39,
   "metadata": {
    "colab": {},
    "colab_type": "code",
    "id": "JveGlx25OB7H"
   },
   "outputs": [],
   "source": [
    "def prediction(x, w, b):\n",
    "   \n",
    "   xw_matmul = tf.matmul(x, w)\n",
    "   y = tf.add(xw_matmul, b)\n",
    "   \n",
    "   return y"
   ]
  },
  {
   "cell_type": "markdown",
   "metadata": {
    "colab_type": "text",
    "id": "TL1hIwf_OB7M",
    "slideshow": {
     "slide_type": "slide"
    }
   },
   "source": [
    "4.Loss (Cost) Function [Mean square error]"
   ]
  },
  {
   "cell_type": "code",
   "execution_count": 40,
   "metadata": {
    "colab": {},
    "colab_type": "code",
    "id": "8VSWPiGXOB7P"
   },
   "outputs": [],
   "source": [
    "def loss(y_actual, y_predicted):\n",
    "   \n",
    "   diff = y_actual - y_predicted\n",
    "   sqr = tf.square(diff)\n",
    "   avg = tf.reduce_mean(sqr)\n",
    "   \n",
    "   return avg"
   ]
  },
  {
   "cell_type": "markdown",
   "metadata": {
    "colab_type": "text",
    "id": "jzG85FUlOB7U",
    "slideshow": {
     "slide_type": "slide"
    }
   },
   "source": [
    "5.GradientDescent Optimizer to minimize Loss [GradientDescentOptimizer]"
   ]
  },
  {
   "cell_type": "code",
   "execution_count": 41,
   "metadata": {
    "colab": {},
    "colab_type": "code",
    "id": "cj802w-3OB7X"
   },
   "outputs": [],
   "source": [
    "def train(x, y_actual, w, b, learning_rate=0.01):\n",
    "   \n",
    "   #Record mathematical operations on 'tape' to calculate loss\n",
    "   with tf.GradientTape() as t:\n",
    "       \n",
    "       t.watch([w,b])\n",
    "       \n",
    "       current_prediction = prediction(x, w, b)\n",
    "       current_loss = loss(y_actual, current_prediction)\n",
    "   \n",
    "   #Calculate Gradients for Loss with respect to Weights and Bias\n",
    "   dw, db = t.gradient(current_loss,[w, b])\n",
    "   \n",
    "   #Update Weights and Bias\n",
    "   w = w - learning_rate*dw\n",
    "   b = b - learning_rate*db\n",
    "   \n",
    "   return w, b"
   ]
  },
  {
   "cell_type": "markdown",
   "metadata": {
    "colab_type": "text",
    "id": "xSypb_u8OB7e",
    "slideshow": {
     "slide_type": "slide"
    }
   },
   "source": [
    "## Execute the Graph for 100 epochs and observe the loss"
   ]
  },
  {
   "cell_type": "code",
   "execution_count": 42,
   "metadata": {
    "colab": {},
    "colab_type": "code",
    "id": "DVvgj7eQOB7f"
   },
   "outputs": [
    {
     "name": "stdout",
     "output_type": "stream",
     "text": [
      "Current Loss on iteration 0 8002.6514\n",
      "Current Loss on iteration 1 7663.568\n",
      "Current Loss on iteration 2 7351.0693\n",
      "Current Loss on iteration 3 7063.065\n",
      "Current Loss on iteration 4 6797.6504\n",
      "Current Loss on iteration 5 6553.033\n",
      "Current Loss on iteration 6 6327.599\n",
      "Current Loss on iteration 7 6119.838\n",
      "Current Loss on iteration 8 5928.3647\n",
      "Current Loss on iteration 9 5751.9062\n",
      "Current Loss on iteration 10 5589.279\n",
      "Current Loss on iteration 11 5439.4014\n",
      "Current Loss on iteration 12 5301.2764\n",
      "Current Loss on iteration 13 5173.9775\n",
      "Current Loss on iteration 14 5056.66\n",
      "Current Loss on iteration 15 4948.547\n",
      "Current Loss on iteration 16 4848.9023\n",
      "Current Loss on iteration 17 4757.0684\n",
      "Current Loss on iteration 18 4672.4365\n",
      "Current Loss on iteration 19 4594.4424\n",
      "Current Loss on iteration 20 4522.562\n",
      "Current Loss on iteration 21 4456.313\n",
      "Current Loss on iteration 22 4395.265\n",
      "Current Loss on iteration 23 4338.999\n",
      "Current Loss on iteration 24 4287.1455\n",
      "Current Loss on iteration 25 4239.3525\n",
      "Current Loss on iteration 26 4195.3125\n",
      "Current Loss on iteration 27 4154.721\n",
      "Current Loss on iteration 28 4117.3145\n",
      "Current Loss on iteration 29 4082.8396\n",
      "Current Loss on iteration 30 4051.0688\n",
      "Current Loss on iteration 31 4021.7888\n",
      "Current Loss on iteration 32 3994.8047\n",
      "Current Loss on iteration 33 3969.9346\n",
      "Current Loss on iteration 34 3947.0127\n",
      "Current Loss on iteration 35 3925.8901\n",
      "Current Loss on iteration 36 3906.4236\n",
      "Current Loss on iteration 37 3888.4844\n",
      "Current Loss on iteration 38 3871.9485\n",
      "Current Loss on iteration 39 3856.7126\n",
      "Current Loss on iteration 40 3842.6692\n",
      "Current Loss on iteration 41 3829.7275\n",
      "Current Loss on iteration 42 3817.7986\n",
      "Current Loss on iteration 43 3806.8079\n",
      "Current Loss on iteration 44 3796.6753\n",
      "Current Loss on iteration 45 3787.3428\n",
      "Current Loss on iteration 46 3778.7356\n",
      "Current Loss on iteration 47 3770.807\n",
      "Current Loss on iteration 48 3763.4978\n",
      "Current Loss on iteration 49 3756.7632\n",
      "Current Loss on iteration 50 3750.5557\n",
      "Current Loss on iteration 51 3744.8323\n",
      "Current Loss on iteration 52 3739.5645\n",
      "Current Loss on iteration 53 3734.7046\n",
      "Current Loss on iteration 54 3730.2258\n",
      "Current Loss on iteration 55 3726.0999\n",
      "Current Loss on iteration 56 3722.2969\n",
      "Current Loss on iteration 57 3718.7917\n",
      "Current Loss on iteration 58 3715.5593\n",
      "Current Loss on iteration 59 3712.584\n",
      "Current Loss on iteration 60 3709.8408\n",
      "Current Loss on iteration 61 3707.3125\n",
      "Current Loss on iteration 62 3704.9817\n",
      "Current Loss on iteration 63 3702.8342\n",
      "Current Loss on iteration 64 3700.8552\n",
      "Current Loss on iteration 65 3699.0317\n",
      "Current Loss on iteration 66 3697.3481\n",
      "Current Loss on iteration 67 3695.8005\n",
      "Current Loss on iteration 68 3694.3762\n",
      "Current Loss on iteration 69 3693.0576\n",
      "Current Loss on iteration 70 3691.846\n",
      "Current Loss on iteration 71 3690.7253\n",
      "Current Loss on iteration 72 3689.6973\n",
      "Current Loss on iteration 73 3688.75\n",
      "Current Loss on iteration 74 3687.8718\n",
      "Current Loss on iteration 75 3687.0667\n",
      "Current Loss on iteration 76 3686.3252\n",
      "Current Loss on iteration 77 3685.6409\n",
      "Current Loss on iteration 78 3685.0068\n",
      "Current Loss on iteration 79 3684.4277\n",
      "Current Loss on iteration 80 3683.8896\n",
      "Current Loss on iteration 81 3683.3992\n",
      "Current Loss on iteration 82 3682.943\n",
      "Current Loss on iteration 83 3682.5212\n",
      "Current Loss on iteration 84 3682.135\n",
      "Current Loss on iteration 85 3681.7798\n",
      "Current Loss on iteration 86 3681.4497\n",
      "Current Loss on iteration 87 3681.1477\n",
      "Current Loss on iteration 88 3680.8687\n",
      "Current Loss on iteration 89 3680.6123\n",
      "Current Loss on iteration 90 3680.3765\n",
      "Current Loss on iteration 91 3680.1562\n",
      "Current Loss on iteration 92 3679.955\n",
      "Current Loss on iteration 93 3679.7715\n",
      "Current Loss on iteration 94 3679.599\n",
      "Current Loss on iteration 95 3679.44\n",
      "Current Loss on iteration 96 3679.2974\n",
      "Current Loss on iteration 97 3679.1626\n",
      "Current Loss on iteration 98 3679.0405\n",
      "Current Loss on iteration 99 3678.9253\n"
     ]
    }
   ],
   "source": [
    "for i in range(100):\n",
    "   \n",
    "   w, b = train(train_X, train_Y, w, b)\n",
    "   print('Current Loss on iteration', i, loss(train_Y, prediction(train_X, w, b)).numpy())"
   ]
  },
  {
   "cell_type": "code",
   "execution_count": null,
   "metadata": {
    "colab": {},
    "colab_type": "code",
    "id": "9smwOW-1OB7k"
   },
   "outputs": [],
   "source": []
  },
  {
   "cell_type": "code",
   "execution_count": null,
   "metadata": {
    "colab": {},
    "colab_type": "code",
    "id": "9JuLI6bSOB7n"
   },
   "outputs": [],
   "source": []
  },
  {
   "cell_type": "markdown",
   "metadata": {
    "colab_type": "text",
    "id": "DOL2ncA1OB7q"
   },
   "source": [
    "### Get the shapes and values of W and b"
   ]
  },
  {
   "cell_type": "code",
   "execution_count": 43,
   "metadata": {
    "colab": {},
    "colab_type": "code",
    "id": "ZGvtyTeuOB7r"
   },
   "outputs": [
    {
     "name": "stdout",
     "output_type": "stream",
     "text": [
      "Weights:\n",
      " [[2.5353243e-03]\n",
      " [2.5108384e-03]\n",
      " [2.5564781e-03]\n",
      " [3.3674854e+01]]\n",
      "Bias:\n",
      " [33.67486]\n"
     ]
    }
   ],
   "source": [
    "#Check Weights and Bias\n",
    "print('Weights:\\n', w.numpy())\n",
    "print('Bias:\\n',b.numpy())"
   ]
  },
  {
   "cell_type": "code",
   "execution_count": null,
   "metadata": {
    "colab": {},
    "colab_type": "code",
    "id": "vhDtOv5UOB7x"
   },
   "outputs": [],
   "source": []
  },
  {
   "cell_type": "markdown",
   "metadata": {
    "colab_type": "text",
    "id": "YJRBuqXhOB7_"
   },
   "source": [
    "### Linear Classification using Keras"
   ]
  },
  {
   "cell_type": "markdown",
   "metadata": {
    "colab_type": "text",
    "id": "8GoNTWXAOB8C",
    "slideshow": {
     "slide_type": "slide"
    }
   },
   "source": [
    "### Building the simple Neural Network in Keras with one neuron in the dense hidden layer.\n",
    "#### Use Mean square error as loss function and sgd as optimizer"
   ]
  },
  {
   "cell_type": "code",
   "execution_count": 44,
   "metadata": {
    "colab": {},
    "colab_type": "code",
    "id": "zpeL5rCTOB8D"
   },
   "outputs": [
    {
     "name": "stdout",
     "output_type": "stream",
     "text": [
      "WARNING:tensorflow:From C:\\ProgramData\\Anaconda3\\lib\\site-packages\\tensorflow\\python\\ops\\resource_variable_ops.py:642: colocate_with (from tensorflow.python.framework.ops) is deprecated and will be removed in a future version.\n",
      "Instructions for updating:\n",
      "Colocations handled automatically by placer.\n",
      "WARNING:tensorflow:From C:\\ProgramData\\Anaconda3\\lib\\site-packages\\tensorflow\\python\\keras\\utils\\losses_utils.py:170: to_float (from tensorflow.python.ops.math_ops) is deprecated and will be removed in a future version.\n",
      "Instructions for updating:\n",
      "Use tf.cast instead.\n"
     ]
    }
   ],
   "source": [
    "#Initialize Sequential Graph (model)\n",
    "model = tf.keras.Sequential()\n",
    "\n",
    "#Add Dense layer for prediction - Keras declares weights and bias automatically\n",
    "model.add(tf.keras.layers.Dense(1, input_shape=(4,)))\n",
    "\n",
    "#Compile the model - add Loss and Gradient Descent optimizer\n",
    "model.compile(optimizer='sgd', loss='mse')"
   ]
  },
  {
   "cell_type": "markdown",
   "metadata": {
    "colab_type": "text",
    "id": "Wt-HYFMEOB8G",
    "slideshow": {
     "slide_type": "slide"
    }
   },
   "source": [
    "### Execute the model"
   ]
  },
  {
   "cell_type": "code",
   "execution_count": 45,
   "metadata": {},
   "outputs": [
    {
     "name": "stdout",
     "output_type": "stream",
     "text": [
      "WARNING:tensorflow:From C:\\ProgramData\\Anaconda3\\lib\\site-packages\\tensorflow\\python\\ops\\math_ops.py:3066: to_int32 (from tensorflow.python.ops.math_ops) is deprecated and will be removed in a future version.\n",
      "Instructions for updating:\n",
      "Use tf.cast instead.\n",
      "Epoch 1/100\n",
      "700/700 [==============================] - 1s 1ms/sample - loss: nan          \n",
      "Epoch 2/100\n",
      "700/700 [==============================] - 0s 82us/sample - loss: nan\n",
      "Epoch 3/100\n",
      "700/700 [==============================] - 0s 71us/sample - loss: nan\n",
      "Epoch 4/100\n",
      "700/700 [==============================] - 0s 57us/sample - loss: nan\n",
      "Epoch 5/100\n",
      "700/700 [==============================] - 0s 120us/sample - loss: nan\n",
      "Epoch 6/100\n",
      "700/700 [==============================] - 0s 108us/sample - loss: nan\n",
      "Epoch 7/100\n",
      "700/700 [==============================] - 0s 120us/sample - loss: nan\n",
      "Epoch 8/100\n",
      "700/700 [==============================] - 0s 90us/sample - loss: nan\n",
      "Epoch 9/100\n",
      "700/700 [==============================] - 0s 91us/sample - loss: nan\n",
      "Epoch 10/100\n",
      "700/700 [==============================] - 0s 63us/sample - loss: nan\n",
      "Epoch 11/100\n",
      "700/700 [==============================] - 0s 72us/sample - loss: nan\n",
      "Epoch 12/100\n",
      "700/700 [==============================] - 0s 80us/sample - loss: nan\n",
      "Epoch 13/100\n",
      "700/700 [==============================] - 0s 93us/sample - loss: nan\n",
      "Epoch 14/100\n",
      "700/700 [==============================] - 0s 74us/sample - loss: nan\n",
      "Epoch 15/100\n",
      "700/700 [==============================] - 0s 102us/sample - loss: nan\n",
      "Epoch 16/100\n",
      "700/700 [==============================] - 0s 97us/sample - loss: nan\n",
      "Epoch 17/100\n",
      "700/700 [==============================] - 0s 68us/sample - loss: nan\n",
      "Epoch 18/100\n",
      "700/700 [==============================] - ETA: 0s - loss: n - 0s 57us/sample - loss: nan\n",
      "Epoch 19/100\n",
      "700/700 [==============================] - 0s 51us/sample - loss: nan\n",
      "Epoch 20/100\n",
      "700/700 [==============================] - 0s 46us/sample - loss: nan\n",
      "Epoch 21/100\n",
      "700/700 [==============================] - 0s 57us/sample - loss: nan\n",
      "Epoch 22/100\n",
      "700/700 [==============================] - 0s 63us/sample - loss: nan\n",
      "Epoch 23/100\n",
      "700/700 [==============================] - 0s 131us/sample - loss: nan\n",
      "Epoch 24/100\n",
      "700/700 [==============================] - 0s 120us/sample - loss: nan\n",
      "Epoch 25/100\n",
      "700/700 [==============================] - 0s 120us/sample - loss: nan\n",
      "Epoch 26/100\n",
      "700/700 [==============================] - 0s 125us/sample - loss: nan\n",
      "Epoch 27/100\n",
      "700/700 [==============================] - 0s 99us/sample - loss: nan\n",
      "Epoch 28/100\n",
      "700/700 [==============================] - 0s 141us/sample - loss: nan\n",
      "Epoch 29/100\n",
      "700/700 [==============================] - 0s 148us/sample - loss: nan\n",
      "Epoch 30/100\n",
      "700/700 [==============================] - 0s 71us/sample - loss: nan\n",
      "Epoch 31/100\n",
      "700/700 [==============================] - 0s 57us/sample - loss: nan\n",
      "Epoch 32/100\n",
      "700/700 [==============================] - 0s 103us/sample - loss: nan\n",
      "Epoch 33/100\n",
      "700/700 [==============================] - 0s 103us/sample - loss: nan\n",
      "Epoch 34/100\n",
      "700/700 [==============================] - 0s 74us/sample - loss: nan\n",
      "Epoch 35/100\n",
      "700/700 [==============================] - 0s 63us/sample - loss: nan\n",
      "Epoch 36/100\n",
      "700/700 [==============================] - 0s 63us/sample - loss: nan\n",
      "Epoch 37/100\n",
      "700/700 [==============================] - 0s 63us/sample - loss: nan\n",
      "Epoch 38/100\n",
      "700/700 [==============================] - 0s 103us/sample - loss: nan\n",
      "Epoch 39/100\n",
      "700/700 [==============================] - 0s 63us/sample - loss: nan\n",
      "Epoch 40/100\n",
      "700/700 [==============================] - 0s 57us/sample - loss: nan\n",
      "Epoch 41/100\n",
      "700/700 [==============================] - 0s 194us/sample - loss: nan\n",
      "Epoch 42/100\n",
      "700/700 [==============================] - 0s 49us/sample - loss: nan\n",
      "Epoch 43/100\n",
      "700/700 [==============================] - 0s 80us/sample - loss: nan\n",
      "Epoch 44/100\n",
      "700/700 [==============================] - 0s 120us/sample - loss: nan\n",
      "Epoch 45/100\n",
      "700/700 [==============================] - 0s 74us/sample - loss: nan\n",
      "Epoch 46/100\n",
      "700/700 [==============================] - 0s 51us/sample - loss: nan\n",
      "Epoch 47/100\n",
      "700/700 [==============================] - 0s 51us/sample - loss: nan\n",
      "Epoch 48/100\n",
      "700/700 [==============================] - 0s 200us/sample - loss: nan\n",
      "Epoch 49/100\n",
      "700/700 [==============================] - 0s 68us/sample - loss: nan\n",
      "Epoch 50/100\n",
      "700/700 [==============================] - 0s 191us/sample - loss: nan\n",
      "Epoch 51/100\n",
      "700/700 [==============================] - 0s 100us/sample - loss: nan\n",
      "Epoch 52/100\n",
      "700/700 [==============================] - 0s 79us/sample - loss: nan\n",
      "Epoch 53/100\n",
      "700/700 [==============================] - 0s 120us/sample - loss: nan\n",
      "Epoch 54/100\n",
      "700/700 [==============================] - 0s 95us/sample - loss: nan\n",
      "Epoch 55/100\n",
      "700/700 [==============================] - 0s 58us/sample - loss: nan\n",
      "Epoch 56/100\n",
      "700/700 [==============================] - 0s 150us/sample - loss: nan\n",
      "Epoch 57/100\n",
      "700/700 [==============================] - 0s 75us/sample - loss: nan\n",
      "Epoch 58/100\n",
      "700/700 [==============================] - 0s 60us/sample - loss: nan\n",
      "Epoch 59/100\n",
      "700/700 [==============================] - 0s 40us/sample - loss: nan\n",
      "Epoch 60/100\n",
      "700/700 [==============================] - 0s 51us/sample - loss: nan\n",
      "Epoch 61/100\n",
      "700/700 [==============================] - 0s 64us/sample - loss: nan\n",
      "Epoch 62/100\n",
      "700/700 [==============================] - 0s 123us/sample - loss: nan\n",
      "Epoch 63/100\n",
      "700/700 [==============================] - 0s 108us/sample - loss: nan\n",
      "Epoch 64/100\n",
      "700/700 [==============================] - 0s 103us/sample - loss: nan\n",
      "Epoch 65/100\n",
      "700/700 [==============================] - 0s 63us/sample - loss: nan\n",
      "Epoch 66/100\n",
      "700/700 [==============================] - 0s 80us/sample - loss: nan\n",
      "Epoch 67/100\n",
      "700/700 [==============================] - 0s 66us/sample - loss: nan\n",
      "Epoch 68/100\n",
      "700/700 [==============================] - 0s 95us/sample - loss: nan\n",
      "Epoch 69/100\n",
      "700/700 [==============================] - 0s 74us/sample - loss: nan\n",
      "Epoch 70/100\n",
      "700/700 [==============================] - 0s 73us/sample - loss: nan\n",
      "Epoch 71/100\n",
      "700/700 [==============================] - 0s 71us/sample - loss: nan\n",
      "Epoch 72/100\n",
      "700/700 [==============================] - 0s 75us/sample - loss: nan\n",
      "Epoch 73/100\n",
      "700/700 [==============================] - 0s 63us/sample - loss: nan\n",
      "Epoch 74/100\n",
      "700/700 [==============================] - 0s 74us/sample - loss: nan\n",
      "Epoch 75/100\n",
      "700/700 [==============================] - 0s 57us/sample - loss: nan\n",
      "Epoch 76/100\n",
      "700/700 [==============================] - 0s 63us/sample - loss: nan\n",
      "Epoch 77/100\n",
      "700/700 [==============================] - 0s 79us/sample - loss: nan\n",
      "Epoch 78/100\n",
      "700/700 [==============================] - 0s 60us/sample - loss: nan\n",
      "Epoch 79/100\n",
      "700/700 [==============================] - 0s 68us/sample - loss: nan\n",
      "Epoch 80/100\n",
      "700/700 [==============================] - 0s 119us/sample - loss: nan\n",
      "Epoch 81/100\n",
      "700/700 [==============================] - 0s 66us/sample - loss: nan\n",
      "Epoch 82/100\n",
      "700/700 [==============================] - 0s 63us/sample - loss: nan\n",
      "Epoch 83/100\n",
      "700/700 [==============================] - 0s 51us/sample - loss: nan\n",
      "Epoch 84/100\n",
      "700/700 [==============================] - 0s 68us/sample - loss: nan\n",
      "Epoch 85/100\n",
      "700/700 [==============================] - 0s 63us/sample - loss: nan\n",
      "Epoch 86/100\n",
      "700/700 [==============================] - 0s 74us/sample - loss: nan\n",
      "Epoch 87/100\n",
      "700/700 [==============================] - 0s 80us/sample - loss: nan\n",
      "Epoch 88/100\n",
      "700/700 [==============================] - 0s 57us/sample - loss: nan\n",
      "Epoch 89/100\n",
      "700/700 [==============================] - 0s 46us/sample - loss: nan\n",
      "Epoch 90/100\n",
      "700/700 [==============================] - 0s 57us/sample - loss: nan\n",
      "Epoch 91/100\n",
      "700/700 [==============================] - 0s 51us/sample - loss: nan\n",
      "Epoch 92/100\n",
      "700/700 [==============================] - 0s 51us/sample - loss: nan\n",
      "Epoch 93/100\n",
      "700/700 [==============================] - 0s 51us/sample - loss: nan\n",
      "Epoch 94/100\n",
      "700/700 [==============================] - 0s 46us/sample - loss: nan\n",
      "Epoch 95/100\n",
      "700/700 [==============================] - 0s 46us/sample - loss: nan\n",
      "Epoch 96/100\n"
     ]
    },
    {
     "name": "stdout",
     "output_type": "stream",
     "text": [
      "700/700 [==============================] - 0s 46us/sample - loss: nan\n",
      "Epoch 97/100\n",
      "700/700 [==============================] - 0s 51us/sample - loss: nan\n",
      "Epoch 98/100\n",
      "700/700 [==============================] - 0s 46us/sample - loss: nan\n",
      "Epoch 99/100\n",
      "700/700 [==============================] - 0s 57us/sample - loss: nan\n",
      "Epoch 100/100\n",
      "700/700 [==============================] - 0s 46us/sample - loss: nan\n"
     ]
    },
    {
     "data": {
      "text/plain": [
       "<tensorflow.python.keras.callbacks.History at 0x24ea9a37c50>"
      ]
     },
     "execution_count": 45,
     "metadata": {},
     "output_type": "execute_result"
    }
   ],
   "source": [
    "model.fit(train_x,train_y, epochs=100)"
   ]
  },
  {
   "cell_type": "code",
   "execution_count": 46,
   "metadata": {},
   "outputs": [
    {
     "name": "stdout",
     "output_type": "stream",
     "text": [
      "_________________________________________________________________\n",
      "Layer (type)                 Output Shape              Param #   \n",
      "=================================================================\n",
      "dense (Dense)                (None, 1)                 5         \n",
      "=================================================================\n",
      "Total params: 5\n",
      "Trainable params: 5\n",
      "Non-trainable params: 0\n",
      "_________________________________________________________________\n"
     ]
    }
   ],
   "source": [
    "model.summary()"
   ]
  },
  {
   "cell_type": "code",
   "execution_count": 47,
   "metadata": {},
   "outputs": [
    {
     "data": {
      "text/plain": [
       "[array([[nan],\n",
       "        [nan],\n",
       "        [nan],\n",
       "        [nan]], dtype=float32), array([nan], dtype=float32)]"
      ]
     },
     "execution_count": 47,
     "metadata": {},
     "output_type": "execute_result"
    }
   ],
   "source": [
    "model.get_weights()"
   ]
  },
  {
   "cell_type": "code",
   "execution_count": 51,
   "metadata": {},
   "outputs": [
    {
     "ename": "ValueError",
     "evalue": "Expected 2D array, got 1D array instead:\narray=[125.84     119.98     114.95     116.62     114.97     115.55\n 112.85     114.38     112.53     110.38     109.3      110.\n 111.95     110.12     111.       110.71     112.58     114.47\n 114.5      110.56     114.05     115.71     114.02     111.16\n 110.65     107.52     107.13     107.84     110.77     111.24\n 111.6      110.33     113.04     111.89     111.56     112.88\n 112.75     113.32     115.51     116.78     117.       117.19\n 116.95     116.71     116.49     116.82     120.62     120.63\n 120.7      120.82     124.03     121.27     121.45     121.47\n 119.38     119.41     118.72     117.98     118.74     118.66\n 119.93     117.65     114.07     115.47     113.54     113.41\n 114.64     115.79     117.99     117.72     118.45     121.26\n 121.68     122.31     123.01     123.79     123.3      124.4\n 124.69     124.15     124.9      125.96     126.27     126.56\n 127.66     121.56     123.44     125.51     124.21     123.89\n 122.97     123.91     123.41     125.27     125.12     125.57\n 125.95     126.62     126.46     126.61     127.91     128.02\n 128.07     128.75     127.48     127.68     129.25     129.03\n 129.58     127.01     125.47     124.96     124.14     124.84\n 125.33     126.27     127.33     126.49     127.65     117.01\n 113.4      117.56     121.       124.31     124.       123.48\n 124.87     124.44     125.06     125.52     127.2      126.42\n 126.04     124.59     123.98     124.17     124.       123.33\n 123.94     124.       123.76     124.27     123.74     123.62\n 123.84     123.17     123.82     124.09     119.92     120.59\n 121.23     121.82     122.75     121.47     121.53     121.48\n 121.93     122.56     122.72     122.95     123.11     122.21\n 122.21     122.99     123.92     123.94     124.01     124.85\n 126.53     127.66     128.55     125.42     122.04     125.25\n 123.09     122.3      125.12     123.95     124.68     125.68\n 128.4      129.18     128.09     128.       128.9      127.99\n 129.79     132.77     132.11     131.57     131.96     132.09\n 131.06     131.02     128.73     129.89     127.91     128.37\n 127.09     128.01     128.76     127.48     126.79     127.29\n 126.45     126.11     125.63     125.65     125.9      124.33\n 122.97     123.67     116.78     117.69     118.79     118.\n 122.27     121.48     122.49     123.33     122.67     124.6\n 124.82     123.89     124.82     124.56     125.3      124.37\n 124.38     124.37     121.42     119.94     121.48     124.76\n 124.75     123.       122.79     121.21     124.46     122.26\n 122.37     122.33     123.63     123.84     122.99     122.85\n 124.49     124.28     122.38     122.17     122.28      31.300001\n   4.77      40.38     214.01      26.63      54.45995   42.07\n  37.09      31.67      31.47      42.83      65.89      25.67\n  27.76      34.94      13.67      33.        47.57      40.29\n  29.89      30.16      22.33      25.92      38.09      34.87\n  30.41      48.25      14.3       38.6       68.88      57.72\n  39.88      43.46     133.9       19.27      59.75      37.94\n 105.87      64.74      83.16      45.94      16.650013  11.3\n  81.2       18.86      36.85      22.65      40.92      36.03\n 158.03      56.18      15.69      58.289997  39.03      25.81\n  40.19      78.68      78.6      108.        41.24      53.64\n  28.29     238.58      52.49      25.63       9.01      33.78\n  67.1        3.4       22.99      23.11      32.53      58.55\n  49.27      13.82      14.25      39.61      32.06      55.74\n  84.27      91.84      61.34      28.09      59.34      36.37\n  26.5       82.85      61.43      30.5       16.97     342.41\n  87.84      46.94      15.79      21.7       14.52      39.05\n  46.23      36.31      56.35      37.75      52.57996   59.41\n  33.87      74.82      24.69      48.86      26.39      36.66\n  46.8       42.84      32.98      79.06      47.39      38.96\n  11.22      34.260002  56.06      14.61      23.08      61.16\n  11.16      75.15      32.07      31.        26.79      50.15\n  48.170002  83.37      42.36      29.18      29.1       35.\n  43.54      16.969982  59.92      76.57      18.15      23.9\n  45.25      45.38      31.47      34.77      48.54      61.75\n  43.35      21.11     100.38     109.56      33.4       44.79\n  25.77      88.53      82.62       1.84      64.32      82.15\n  87.47      48.88      35.08      25.82      11.89      10.28\n  42.03      83.46      83.45      46.77      53.98      23.82\n  49.43      10.12      11.16      32.64      46.01      97.009995\n  56.82      16.310001  13.929995  67.03     135.46      59.23\n   7.96      69.19      15.45      11.499998  43.3       70.9\n  19.56     626.75104  626.75      38.13      52.67      20.54\n  32.18     173.08      14.79      97.24      31.25      35.87\n  32.54       3.68      24.7       44.04      30.070002  28.67\n  63.16      23.86      25.46      14.94      40.35      41.98\n  52.45      22.66      38.28      48.33      53.43      11.82\n  36.22      45.68     132.45     112.869995  54.08      42.01\n  30.55      20.88      30.81      27.179996   7.53      36.249996\n  22.890001 308.77      48.57      23.34      33.06      36.270046\n  38.45      64.68      27.18      42.85      37.92      52.83\n   5.94      13.66      36.92      64.26999   23.98      57.04\n  20.48      53.98      33.65      37.18      19.31      20.51\n  13.01      76.37      19.69      87.97      30.94      35.82\n  76.85      25.88      30.35      23.16      39.88      24.75\n  11.18       1.61      17.06     256.84      48.19      34.84\n  27.63      14.29      19.99      62.78      29.18      63.36\n  27.27      27.43      43.9       36.3       48.31      44.99\n  36.3       91.67      21.87      83.02      39.28      19.79\n  83.43      61.71      37.01      32.11007   30.95       7.969945\n  67.01     105.64      10.85      55.920006  18.72      73.22\n  20.24      53.25      48.45      53.48      49.92      15.510001\n  65.35      56.85016   46.089993  23.87      52.59      34.19\n  52.53      47.79      18.49      15.2       26.1       45.579998\n  39.62      24.85      38.5       83.100006  30.82      16.75\n  22.92      36.61      44.5      223.96      28.81      33.63\n  61.24      18.93      25.        61.12      18.03      54.52\n  10.24      20.64      25.37      49.35      53.51      33.38\n  36.88      60.6       32.47      40.35      51.77      80.13\n  41.1       21.24      81.56      50.98      46.94      41.55\n  53.24      25.8       24.63       5.42      27.12      31.12\n  86.78      81.56      47.73      52.54      42.69      52.6\n  28.68      52.21      23.05      37.59      19.78      20.81\n  22.02      61.67      27.12      62.18      67.11      48.93\n  42.86      41.91      33.25      78.91999   33.61      24.5\n  55.16      55.9       20.44      44.46      18.89      16.12\n  52.71      14.82      50.83      52.16      18.4       28.1\n  28.58      45.92      30.87      25.03      15.35      48.55\n  43.99      36.04      44.75999   47.5       54.4       49.81\n  53.34      12.24      14.81      17.21      29.419994  26.01\n  19.04      28.08      12.8       16.21      31.15      18.85\n  31.53      19.94      65.39      58.18      34.91      10.04\n  22.88      71.63      88.14      47.17      73.38      29.98\n  17.889997  52.73      70.02      29.85      24.74      44.24\n  43.35      33.27987   61.63      37.3       45.26      49.73\n  27.32      27.85      81.95      34.16      21.60995   54.23\n  19.09      44.28      20.28      63.96      55.17      21.08\n  18.72      25.38      69.15      35.33       8.63      17.1\n  35.09      60.02      13.33      15.96      30.960001   5.31\n  40.14     214.37999   26.44      54.019955  42.33      37.7\n  31.62      31.64      42.600002  66.02      25.28      27.65\n  34.54      13.53      32.53      48.95      39.89      29.33\n  31.06      22.21      26.69      38.02      36.78      30.91\n  47.56      14.19      38.43      69.43      57.22      40.81\n  44.18     134.69      19.57      60.4       37.7      107.12\n  66.56      82.47      44.98      16.130013  11.32      80.59\n  19.        37.09      22.88      40.83      36.33     156.71\n  58.02      16.2       57.889996  38.67      26.18      41.21\n  79.35      77.87     108.84      43.66      53.38      28.59\n 239.61      51.9       25.23       9.04      35.39      68.12\n   3.53      22.91      23.209997  32.24      59.25      48.16\n  14.15      14.18      39.99      32.37      55.09      89.25\n  93.33      60.51      28.970001  58.11      35.        36.98\n  26.51      83.52      62.1       30.61      16.74     342.13\n  89.02      48.05      15.74      21.01      14.41      40.59\n  46.17      36.75      56.36      38.19      52.62996   59.23\n  33.93      74.5       24.58      50.15      26.35      36.72\n  47.33      42.87      32.85      79.62      45.73      38.48\n  12.1       33.929996  55.85      15.1       23.26      59.79\n  11.56      75.06      31.99      32.22      27.97      50.48\n  47.56      83.29      42.160004  30.48      28.76      34.85\n  43.05      16.689981  59.41      76.65      18.66      23.65\n  44.56      44.79      31.46      34.46      48.35      60.96\n  43.42      20.88      99.15     108.54      33.27      45.1\n  25.68      86.92      83.12       1.8       63.94      80.84\n  88.1       48.08      35.32      25.93      11.81      10.96\n  42.9       83.96      84.54      46.25      52.52      24.84\n  49.64      10.39      11.47      32.72      45.98      98.09\n  56.63      16.24      13.97      66.95     137.4       60.25\n   7.91      69.3       15.53      12.150007  43.26      70.24\n  19.63     623.991    623.99      38.09      52.56      20.79\n  32.26     176.14      15.75      97.28      31.65      37.23\n  32.18       3.76      24.78      44.66      29.990002  28.88\n  63.55      25.69      25.65      14.94      40.43      44.43\n  52.67      22.34      38.48      48.        53.28      12.09\n  37.17      45.66     130.85     108.62      54.17      41.7\n  30.35      20.87      30.81      28.140001   7.45      35.889996\n  22.959995 307.38      48.44      23.47      33.15      36.090042\n  38.96      63.93      26.75      43.68      37.33      52.95\n   6.17      13.59      36.51      64.31999   24.12      56.35\n  20.24      54.02      34.31      37.38      18.68      20.29\n  13.55      75.44      19.83      87.37      30.96      35.19\n  77.65      26.42      31.06      22.92      39.61      25.140003\n  11.77       1.65      16.86     256.08      48.15      34.43\n  27.79      14.42      19.58      62.3       28.72      63.59\n  26.99      28.77      44.8       37.14    ].\nReshape your data either using array.reshape(-1, 1) if your data has a single feature or array.reshape(1, -1) if it contains a single sample.",
     "output_type": "error",
     "traceback": [
      "\u001b[1;31m---------------------------------------------------------------------------\u001b[0m",
      "\u001b[1;31mValueError\u001b[0m                                Traceback (most recent call last)",
      "\u001b[1;32m<ipython-input-51-80641be0d32b>\u001b[0m in \u001b[0;36m<module>\u001b[1;34m\u001b[0m\n\u001b[0;32m      4\u001b[0m \u001b[0mtransformer\u001b[0m \u001b[1;33m=\u001b[0m \u001b[0mNormalizer\u001b[0m\u001b[1;33m(\u001b[0m\u001b[1;33m)\u001b[0m\u001b[1;33m\u001b[0m\u001b[1;33m\u001b[0m\u001b[0m\n\u001b[0;32m      5\u001b[0m \u001b[0mX1\u001b[0m\u001b[1;33m=\u001b[0m \u001b[0mtransformer\u001b[0m\u001b[1;33m.\u001b[0m\u001b[0mfit_transform\u001b[0m\u001b[1;33m(\u001b[0m\u001b[0mX1\u001b[0m\u001b[1;33m)\u001b[0m\u001b[1;33m\u001b[0m\u001b[1;33m\u001b[0m\u001b[0m\n\u001b[1;32m----> 6\u001b[1;33m \u001b[0mY1\u001b[0m\u001b[1;33m=\u001b[0m \u001b[0mtransformer\u001b[0m\u001b[1;33m.\u001b[0m\u001b[0mfit_transform\u001b[0m\u001b[1;33m(\u001b[0m\u001b[0mY1\u001b[0m\u001b[1;33m)\u001b[0m\u001b[1;33m\u001b[0m\u001b[1;33m\u001b[0m\u001b[0m\n\u001b[0m\u001b[0;32m      7\u001b[0m \u001b[0mtrain_x\u001b[0m\u001b[1;33m,\u001b[0m \u001b[0mtest_x\u001b[0m\u001b[1;33m,\u001b[0m\u001b[0mtrain_y\u001b[0m\u001b[1;33m,\u001b[0m\u001b[0mtest_y\u001b[0m \u001b[1;33m=\u001b[0m \u001b[0mtrain_test_split\u001b[0m\u001b[1;33m(\u001b[0m\u001b[0mX1\u001b[0m\u001b[1;33m,\u001b[0m \u001b[0mY1\u001b[0m\u001b[1;33m,\u001b[0m \u001b[0mtest_size\u001b[0m\u001b[1;33m=\u001b[0m\u001b[1;36m.3\u001b[0m\u001b[1;33m,\u001b[0m \u001b[0mrandom_state\u001b[0m\u001b[1;33m=\u001b[0m\u001b[1;36m7\u001b[0m\u001b[1;33m)\u001b[0m\u001b[1;33m\u001b[0m\u001b[1;33m\u001b[0m\u001b[0m\n",
      "\u001b[1;32mC:\\ProgramData\\Anaconda3\\lib\\site-packages\\sklearn\\base.py\u001b[0m in \u001b[0;36mfit_transform\u001b[1;34m(self, X, y, **fit_params)\u001b[0m\n\u001b[0;32m    551\u001b[0m         \u001b[1;32mif\u001b[0m \u001b[0my\u001b[0m \u001b[1;32mis\u001b[0m \u001b[1;32mNone\u001b[0m\u001b[1;33m:\u001b[0m\u001b[1;33m\u001b[0m\u001b[1;33m\u001b[0m\u001b[0m\n\u001b[0;32m    552\u001b[0m             \u001b[1;31m# fit method of arity 1 (unsupervised transformation)\u001b[0m\u001b[1;33m\u001b[0m\u001b[1;33m\u001b[0m\u001b[1;33m\u001b[0m\u001b[0m\n\u001b[1;32m--> 553\u001b[1;33m             \u001b[1;32mreturn\u001b[0m \u001b[0mself\u001b[0m\u001b[1;33m.\u001b[0m\u001b[0mfit\u001b[0m\u001b[1;33m(\u001b[0m\u001b[0mX\u001b[0m\u001b[1;33m,\u001b[0m \u001b[1;33m**\u001b[0m\u001b[0mfit_params\u001b[0m\u001b[1;33m)\u001b[0m\u001b[1;33m.\u001b[0m\u001b[0mtransform\u001b[0m\u001b[1;33m(\u001b[0m\u001b[0mX\u001b[0m\u001b[1;33m)\u001b[0m\u001b[1;33m\u001b[0m\u001b[1;33m\u001b[0m\u001b[0m\n\u001b[0m\u001b[0;32m    554\u001b[0m         \u001b[1;32melse\u001b[0m\u001b[1;33m:\u001b[0m\u001b[1;33m\u001b[0m\u001b[1;33m\u001b[0m\u001b[0m\n\u001b[0;32m    555\u001b[0m             \u001b[1;31m# fit method of arity 2 (supervised transformation)\u001b[0m\u001b[1;33m\u001b[0m\u001b[1;33m\u001b[0m\u001b[1;33m\u001b[0m\u001b[0m\n",
      "\u001b[1;32mC:\\ProgramData\\Anaconda3\\lib\\site-packages\\sklearn\\preprocessing\\data.py\u001b[0m in \u001b[0;36mfit\u001b[1;34m(self, X, y)\u001b[0m\n\u001b[0;32m   1721\u001b[0m         \u001b[0mX\u001b[0m \u001b[1;33m:\u001b[0m \u001b[0marray\u001b[0m\u001b[1;33m-\u001b[0m\u001b[0mlike\u001b[0m\u001b[1;33m\u001b[0m\u001b[1;33m\u001b[0m\u001b[0m\n\u001b[0;32m   1722\u001b[0m         \"\"\"\n\u001b[1;32m-> 1723\u001b[1;33m         \u001b[0mcheck_array\u001b[0m\u001b[1;33m(\u001b[0m\u001b[0mX\u001b[0m\u001b[1;33m,\u001b[0m \u001b[0maccept_sparse\u001b[0m\u001b[1;33m=\u001b[0m\u001b[1;34m'csr'\u001b[0m\u001b[1;33m)\u001b[0m\u001b[1;33m\u001b[0m\u001b[1;33m\u001b[0m\u001b[0m\n\u001b[0m\u001b[0;32m   1724\u001b[0m         \u001b[1;32mreturn\u001b[0m \u001b[0mself\u001b[0m\u001b[1;33m\u001b[0m\u001b[1;33m\u001b[0m\u001b[0m\n\u001b[0;32m   1725\u001b[0m \u001b[1;33m\u001b[0m\u001b[0m\n",
      "\u001b[1;32mC:\\ProgramData\\Anaconda3\\lib\\site-packages\\sklearn\\utils\\validation.py\u001b[0m in \u001b[0;36mcheck_array\u001b[1;34m(array, accept_sparse, accept_large_sparse, dtype, order, copy, force_all_finite, ensure_2d, allow_nd, ensure_min_samples, ensure_min_features, warn_on_dtype, estimator)\u001b[0m\n\u001b[0;32m    519\u001b[0m                     \u001b[1;34m\"Reshape your data either using array.reshape(-1, 1) if \"\u001b[0m\u001b[1;33m\u001b[0m\u001b[1;33m\u001b[0m\u001b[0m\n\u001b[0;32m    520\u001b[0m                     \u001b[1;34m\"your data has a single feature or array.reshape(1, -1) \"\u001b[0m\u001b[1;33m\u001b[0m\u001b[1;33m\u001b[0m\u001b[0m\n\u001b[1;32m--> 521\u001b[1;33m                     \"if it contains a single sample.\".format(array))\n\u001b[0m\u001b[0;32m    522\u001b[0m \u001b[1;33m\u001b[0m\u001b[0m\n\u001b[0;32m    523\u001b[0m         \u001b[1;31m# in the future np.flexible dtypes will be handled like object dtypes\u001b[0m\u001b[1;33m\u001b[0m\u001b[1;33m\u001b[0m\u001b[1;33m\u001b[0m\u001b[0m\n",
      "\u001b[1;31mValueError\u001b[0m: Expected 2D array, got 1D array instead:\narray=[125.84     119.98     114.95     116.62     114.97     115.55\n 112.85     114.38     112.53     110.38     109.3      110.\n 111.95     110.12     111.       110.71     112.58     114.47\n 114.5      110.56     114.05     115.71     114.02     111.16\n 110.65     107.52     107.13     107.84     110.77     111.24\n 111.6      110.33     113.04     111.89     111.56     112.88\n 112.75     113.32     115.51     116.78     117.       117.19\n 116.95     116.71     116.49     116.82     120.62     120.63\n 120.7      120.82     124.03     121.27     121.45     121.47\n 119.38     119.41     118.72     117.98     118.74     118.66\n 119.93     117.65     114.07     115.47     113.54     113.41\n 114.64     115.79     117.99     117.72     118.45     121.26\n 121.68     122.31     123.01     123.79     123.3      124.4\n 124.69     124.15     124.9      125.96     126.27     126.56\n 127.66     121.56     123.44     125.51     124.21     123.89\n 122.97     123.91     123.41     125.27     125.12     125.57\n 125.95     126.62     126.46     126.61     127.91     128.02\n 128.07     128.75     127.48     127.68     129.25     129.03\n 129.58     127.01     125.47     124.96     124.14     124.84\n 125.33     126.27     127.33     126.49     127.65     117.01\n 113.4      117.56     121.       124.31     124.       123.48\n 124.87     124.44     125.06     125.52     127.2      126.42\n 126.04     124.59     123.98     124.17     124.       123.33\n 123.94     124.       123.76     124.27     123.74     123.62\n 123.84     123.17     123.82     124.09     119.92     120.59\n 121.23     121.82     122.75     121.47     121.53     121.48\n 121.93     122.56     122.72     122.95     123.11     122.21\n 122.21     122.99     123.92     123.94     124.01     124.85\n 126.53     127.66     128.55     125.42     122.04     125.25\n 123.09     122.3      125.12     123.95     124.68     125.68\n 128.4      129.18     128.09     128.       128.9      127.99\n 129.79     132.77     132.11     131.57     131.96     132.09\n 131.06     131.02     128.73     129.89     127.91     128.37\n 127.09     128.01     128.76     127.48     126.79     127.29\n 126.45     126.11     125.63     125.65     125.9      124.33\n 122.97     123.67     116.78     117.69     118.79     118.\n 122.27     121.48     122.49     123.33     122.67     124.6\n 124.82     123.89     124.82     124.56     125.3      124.37\n 124.38     124.37     121.42     119.94     121.48     124.76\n 124.75     123.       122.79     121.21     124.46     122.26\n 122.37     122.33     123.63     123.84     122.99     122.85\n 124.49     124.28     122.38     122.17     122.28      31.300001\n   4.77      40.38     214.01      26.63      54.45995   42.07\n  37.09      31.67      31.47      42.83      65.89      25.67\n  27.76      34.94      13.67      33.        47.57      40.29\n  29.89      30.16      22.33      25.92      38.09      34.87\n  30.41      48.25      14.3       38.6       68.88      57.72\n  39.88      43.46     133.9       19.27      59.75      37.94\n 105.87      64.74      83.16      45.94      16.650013  11.3\n  81.2       18.86      36.85      22.65      40.92      36.03\n 158.03      56.18      15.69      58.289997  39.03      25.81\n  40.19      78.68      78.6      108.        41.24      53.64\n  28.29     238.58      52.49      25.63       9.01      33.78\n  67.1        3.4       22.99      23.11      32.53      58.55\n  49.27      13.82      14.25      39.61      32.06      55.74\n  84.27      91.84      61.34      28.09      59.34      36.37\n  26.5       82.85      61.43      30.5       16.97     342.41\n  87.84      46.94      15.79      21.7       14.52      39.05\n  46.23      36.31      56.35      37.75      52.57996   59.41\n  33.87      74.82      24.69      48.86      26.39      36.66\n  46.8       42.84      32.98      79.06      47.39      38.96\n  11.22      34.260002  56.06      14.61      23.08      61.16\n  11.16      75.15      32.07      31.        26.79      50.15\n  48.170002  83.37      42.36      29.18      29.1       35.\n  43.54      16.969982  59.92      76.57      18.15      23.9\n  45.25      45.38      31.47      34.77      48.54      61.75\n  43.35      21.11     100.38     109.56      33.4       44.79\n  25.77      88.53      82.62       1.84      64.32      82.15\n  87.47      48.88      35.08      25.82      11.89      10.28\n  42.03      83.46      83.45      46.77      53.98      23.82\n  49.43      10.12      11.16      32.64      46.01      97.009995\n  56.82      16.310001  13.929995  67.03     135.46      59.23\n   7.96      69.19      15.45      11.499998  43.3       70.9\n  19.56     626.75104  626.75      38.13      52.67      20.54\n  32.18     173.08      14.79      97.24      31.25      35.87\n  32.54       3.68      24.7       44.04      30.070002  28.67\n  63.16      23.86      25.46      14.94      40.35      41.98\n  52.45      22.66      38.28      48.33      53.43      11.82\n  36.22      45.68     132.45     112.869995  54.08      42.01\n  30.55      20.88      30.81      27.179996   7.53      36.249996\n  22.890001 308.77      48.57      23.34      33.06      36.270046\n  38.45      64.68      27.18      42.85      37.92      52.83\n   5.94      13.66      36.92      64.26999   23.98      57.04\n  20.48      53.98      33.65      37.18      19.31      20.51\n  13.01      76.37      19.69      87.97      30.94      35.82\n  76.85      25.88      30.35      23.16      39.88      24.75\n  11.18       1.61      17.06     256.84      48.19      34.84\n  27.63      14.29      19.99      62.78      29.18      63.36\n  27.27      27.43      43.9       36.3       48.31      44.99\n  36.3       91.67      21.87      83.02      39.28      19.79\n  83.43      61.71      37.01      32.11007   30.95       7.969945\n  67.01     105.64      10.85      55.920006  18.72      73.22\n  20.24      53.25      48.45      53.48      49.92      15.510001\n  65.35      56.85016   46.089993  23.87      52.59      34.19\n  52.53      47.79      18.49      15.2       26.1       45.579998\n  39.62      24.85      38.5       83.100006  30.82      16.75\n  22.92      36.61      44.5      223.96      28.81      33.63\n  61.24      18.93      25.        61.12      18.03      54.52\n  10.24      20.64      25.37      49.35      53.51      33.38\n  36.88      60.6       32.47      40.35      51.77      80.13\n  41.1       21.24      81.56      50.98      46.94      41.55\n  53.24      25.8       24.63       5.42      27.12      31.12\n  86.78      81.56      47.73      52.54      42.69      52.6\n  28.68      52.21      23.05      37.59      19.78      20.81\n  22.02      61.67      27.12      62.18      67.11      48.93\n  42.86      41.91      33.25      78.91999   33.61      24.5\n  55.16      55.9       20.44      44.46      18.89      16.12\n  52.71      14.82      50.83      52.16      18.4       28.1\n  28.58      45.92      30.87      25.03      15.35      48.55\n  43.99      36.04      44.75999   47.5       54.4       49.81\n  53.34      12.24      14.81      17.21      29.419994  26.01\n  19.04      28.08      12.8       16.21      31.15      18.85\n  31.53      19.94      65.39      58.18      34.91      10.04\n  22.88      71.63      88.14      47.17      73.38      29.98\n  17.889997  52.73      70.02      29.85      24.74      44.24\n  43.35      33.27987   61.63      37.3       45.26      49.73\n  27.32      27.85      81.95      34.16      21.60995   54.23\n  19.09      44.28      20.28      63.96      55.17      21.08\n  18.72      25.38      69.15      35.33       8.63      17.1\n  35.09      60.02      13.33      15.96      30.960001   5.31\n  40.14     214.37999   26.44      54.019955  42.33      37.7\n  31.62      31.64      42.600002  66.02      25.28      27.65\n  34.54      13.53      32.53      48.95      39.89      29.33\n  31.06      22.21      26.69      38.02      36.78      30.91\n  47.56      14.19      38.43      69.43      57.22      40.81\n  44.18     134.69      19.57      60.4       37.7      107.12\n  66.56      82.47      44.98      16.130013  11.32      80.59\n  19.        37.09      22.88      40.83      36.33     156.71\n  58.02      16.2       57.889996  38.67      26.18      41.21\n  79.35      77.87     108.84      43.66      53.38      28.59\n 239.61      51.9       25.23       9.04      35.39      68.12\n   3.53      22.91      23.209997  32.24      59.25      48.16\n  14.15      14.18      39.99      32.37      55.09      89.25\n  93.33      60.51      28.970001  58.11      35.        36.98\n  26.51      83.52      62.1       30.61      16.74     342.13\n  89.02      48.05      15.74      21.01      14.41      40.59\n  46.17      36.75      56.36      38.19      52.62996   59.23\n  33.93      74.5       24.58      50.15      26.35      36.72\n  47.33      42.87      32.85      79.62      45.73      38.48\n  12.1       33.929996  55.85      15.1       23.26      59.79\n  11.56      75.06      31.99      32.22      27.97      50.48\n  47.56      83.29      42.160004  30.48      28.76      34.85\n  43.05      16.689981  59.41      76.65      18.66      23.65\n  44.56      44.79      31.46      34.46      48.35      60.96\n  43.42      20.88      99.15     108.54      33.27      45.1\n  25.68      86.92      83.12       1.8       63.94      80.84\n  88.1       48.08      35.32      25.93      11.81      10.96\n  42.9       83.96      84.54      46.25      52.52      24.84\n  49.64      10.39      11.47      32.72      45.98      98.09\n  56.63      16.24      13.97      66.95     137.4       60.25\n   7.91      69.3       15.53      12.150007  43.26      70.24\n  19.63     623.991    623.99      38.09      52.56      20.79\n  32.26     176.14      15.75      97.28      31.65      37.23\n  32.18       3.76      24.78      44.66      29.990002  28.88\n  63.55      25.69      25.65      14.94      40.43      44.43\n  52.67      22.34      38.48      48.        53.28      12.09\n  37.17      45.66     130.85     108.62      54.17      41.7\n  30.35      20.87      30.81      28.140001   7.45      35.889996\n  22.959995 307.38      48.44      23.47      33.15      36.090042\n  38.96      63.93      26.75      43.68      37.33      52.95\n   6.17      13.59      36.51      64.31999   24.12      56.35\n  20.24      54.02      34.31      37.38      18.68      20.29\n  13.55      75.44      19.83      87.37      30.96      35.19\n  77.65      26.42      31.06      22.92      39.61      25.140003\n  11.77       1.65      16.86     256.08      48.15      34.43\n  27.79      14.42      19.58      62.3       28.72      63.59\n  26.99      28.77      44.8       37.14    ].\nReshape your data either using array.reshape(-1, 1) if your data has a single feature or array.reshape(1, -1) if it contains a single sample."
     ]
    }
   ],
   "source": [
    "from sklearn.model_selection import train_test_split\n",
    "\n",
    "\n",
    "transformer = Normalizer()\n",
    "X1= transformer.fit_transform(X1)\n",
    "Y1= transformer.fit_transform(Y1)\n",
    "train_x, test_x,train_y,test_y = train_test_split(X1, Y1, test_size=.3, random_state=7)"
   ]
  },
  {
   "cell_type": "markdown",
   "metadata": {},
   "source": [
    "### Classification using Keras "
   ]
  },
  {
   "cell_type": "code",
   "execution_count": null,
   "metadata": {},
   "outputs": [],
   "source": []
  },
  {
   "cell_type": "markdown",
   "metadata": {},
   "source": [
    "### Load the given Iris data using pandas (Iris.csv)"
   ]
  },
  {
   "cell_type": "code",
   "execution_count": 52,
   "metadata": {},
   "outputs": [],
   "source": [
    "# iris= mount_drive(\"Iris-1.csv\")\n",
    "iris = pd.read_csv('Iris-2.csv')"
   ]
  },
  {
   "cell_type": "code",
   "execution_count": 53,
   "metadata": {},
   "outputs": [
    {
     "data": {
      "text/plain": [
       "Id                 int64\n",
       "SepalLengthCm    float64\n",
       "SepalWidthCm     float64\n",
       "PetalLengthCm    float64\n",
       "PetalWidthCm     float64\n",
       "Species           object\n",
       "dtype: object"
      ]
     },
     "execution_count": 53,
     "metadata": {},
     "output_type": "execute_result"
    }
   ],
   "source": [
    "iris.dtypes"
   ]
  },
  {
   "cell_type": "code",
   "execution_count": 54,
   "metadata": {},
   "outputs": [
    {
     "data": {
      "text/html": [
       "<div>\n",
       "<style scoped>\n",
       "    .dataframe tbody tr th:only-of-type {\n",
       "        vertical-align: middle;\n",
       "    }\n",
       "\n",
       "    .dataframe tbody tr th {\n",
       "        vertical-align: top;\n",
       "    }\n",
       "\n",
       "    .dataframe thead th {\n",
       "        text-align: right;\n",
       "    }\n",
       "</style>\n",
       "<table border=\"1\" class=\"dataframe\">\n",
       "  <thead>\n",
       "    <tr style=\"text-align: right;\">\n",
       "      <th></th>\n",
       "      <th>Id</th>\n",
       "      <th>SepalLengthCm</th>\n",
       "      <th>SepalWidthCm</th>\n",
       "      <th>PetalLengthCm</th>\n",
       "      <th>PetalWidthCm</th>\n",
       "      <th>Species</th>\n",
       "    </tr>\n",
       "  </thead>\n",
       "  <tbody>\n",
       "    <tr>\n",
       "      <th>0</th>\n",
       "      <td>1</td>\n",
       "      <td>5.1</td>\n",
       "      <td>3.5</td>\n",
       "      <td>1.4</td>\n",
       "      <td>0.2</td>\n",
       "      <td>Iris-setosa</td>\n",
       "    </tr>\n",
       "    <tr>\n",
       "      <th>1</th>\n",
       "      <td>2</td>\n",
       "      <td>4.9</td>\n",
       "      <td>3.0</td>\n",
       "      <td>1.4</td>\n",
       "      <td>0.2</td>\n",
       "      <td>Iris-setosa</td>\n",
       "    </tr>\n",
       "    <tr>\n",
       "      <th>2</th>\n",
       "      <td>3</td>\n",
       "      <td>4.7</td>\n",
       "      <td>3.2</td>\n",
       "      <td>1.3</td>\n",
       "      <td>0.2</td>\n",
       "      <td>Iris-setosa</td>\n",
       "    </tr>\n",
       "  </tbody>\n",
       "</table>\n",
       "</div>"
      ],
      "text/plain": [
       "   Id  SepalLengthCm  SepalWidthCm  PetalLengthCm  PetalWidthCm      Species\n",
       "0   1            5.1           3.5            1.4           0.2  Iris-setosa\n",
       "1   2            4.9           3.0            1.4           0.2  Iris-setosa\n",
       "2   3            4.7           3.2            1.3           0.2  Iris-setosa"
      ]
     },
     "execution_count": 54,
     "metadata": {},
     "output_type": "execute_result"
    }
   ],
   "source": [
    "iris.head(3)"
   ]
  },
  {
   "cell_type": "code",
   "execution_count": 55,
   "metadata": {},
   "outputs": [],
   "source": [
    "iris[\"Species\"] = pd.Categorical(iris[\"Species\"]).codes"
   ]
  },
  {
   "cell_type": "code",
   "execution_count": 56,
   "metadata": {},
   "outputs": [],
   "source": [
    "iris.drop(\"Id\",axis=1,inplace=True)"
   ]
  },
  {
   "cell_type": "markdown",
   "metadata": {},
   "source": [
    "### Splitting the data into feature set and target set"
   ]
  },
  {
   "cell_type": "code",
   "execution_count": 57,
   "metadata": {},
   "outputs": [],
   "source": [
    "features = iris.drop(columns= ['Species']) \n",
    "\n",
    "target = iris[['Species']]"
   ]
  },
  {
   "cell_type": "code",
   "execution_count": 58,
   "metadata": {},
   "outputs": [
    {
     "data": {
      "text/html": [
       "<div>\n",
       "<style scoped>\n",
       "    .dataframe tbody tr th:only-of-type {\n",
       "        vertical-align: middle;\n",
       "    }\n",
       "\n",
       "    .dataframe tbody tr th {\n",
       "        vertical-align: top;\n",
       "    }\n",
       "\n",
       "    .dataframe thead th {\n",
       "        text-align: right;\n",
       "    }\n",
       "</style>\n",
       "<table border=\"1\" class=\"dataframe\">\n",
       "  <thead>\n",
       "    <tr style=\"text-align: right;\">\n",
       "      <th></th>\n",
       "      <th>SepalLengthCm</th>\n",
       "      <th>SepalWidthCm</th>\n",
       "      <th>PetalLengthCm</th>\n",
       "      <th>PetalWidthCm</th>\n",
       "    </tr>\n",
       "  </thead>\n",
       "  <tbody>\n",
       "    <tr>\n",
       "      <th>0</th>\n",
       "      <td>5.1</td>\n",
       "      <td>3.5</td>\n",
       "      <td>1.4</td>\n",
       "      <td>0.2</td>\n",
       "    </tr>\n",
       "    <tr>\n",
       "      <th>1</th>\n",
       "      <td>4.9</td>\n",
       "      <td>3.0</td>\n",
       "      <td>1.4</td>\n",
       "      <td>0.2</td>\n",
       "    </tr>\n",
       "    <tr>\n",
       "      <th>2</th>\n",
       "      <td>4.7</td>\n",
       "      <td>3.2</td>\n",
       "      <td>1.3</td>\n",
       "      <td>0.2</td>\n",
       "    </tr>\n",
       "    <tr>\n",
       "      <th>3</th>\n",
       "      <td>4.6</td>\n",
       "      <td>3.1</td>\n",
       "      <td>1.5</td>\n",
       "      <td>0.2</td>\n",
       "    </tr>\n",
       "    <tr>\n",
       "      <th>4</th>\n",
       "      <td>5.0</td>\n",
       "      <td>3.6</td>\n",
       "      <td>1.4</td>\n",
       "      <td>0.2</td>\n",
       "    </tr>\n",
       "  </tbody>\n",
       "</table>\n",
       "</div>"
      ],
      "text/plain": [
       "   SepalLengthCm  SepalWidthCm  PetalLengthCm  PetalWidthCm\n",
       "0            5.1           3.5            1.4           0.2\n",
       "1            4.9           3.0            1.4           0.2\n",
       "2            4.7           3.2            1.3           0.2\n",
       "3            4.6           3.1            1.5           0.2\n",
       "4            5.0           3.6            1.4           0.2"
      ]
     },
     "execution_count": 58,
     "metadata": {},
     "output_type": "execute_result"
    }
   ],
   "source": [
    "\n",
    "features.head(5)"
   ]
  },
  {
   "cell_type": "code",
   "execution_count": 59,
   "metadata": {},
   "outputs": [
    {
     "data": {
      "text/html": [
       "<div>\n",
       "<style scoped>\n",
       "    .dataframe tbody tr th:only-of-type {\n",
       "        vertical-align: middle;\n",
       "    }\n",
       "\n",
       "    .dataframe tbody tr th {\n",
       "        vertical-align: top;\n",
       "    }\n",
       "\n",
       "    .dataframe thead th {\n",
       "        text-align: right;\n",
       "    }\n",
       "</style>\n",
       "<table border=\"1\" class=\"dataframe\">\n",
       "  <thead>\n",
       "    <tr style=\"text-align: right;\">\n",
       "      <th></th>\n",
       "      <th>Species</th>\n",
       "    </tr>\n",
       "  </thead>\n",
       "  <tbody>\n",
       "    <tr>\n",
       "      <th>0</th>\n",
       "      <td>0</td>\n",
       "    </tr>\n",
       "    <tr>\n",
       "      <th>1</th>\n",
       "      <td>0</td>\n",
       "    </tr>\n",
       "    <tr>\n",
       "      <th>2</th>\n",
       "      <td>0</td>\n",
       "    </tr>\n",
       "    <tr>\n",
       "      <th>3</th>\n",
       "      <td>0</td>\n",
       "    </tr>\n",
       "    <tr>\n",
       "      <th>4</th>\n",
       "      <td>0</td>\n",
       "    </tr>\n",
       "  </tbody>\n",
       "</table>\n",
       "</div>"
      ],
      "text/plain": [
       "   Species\n",
       "0        0\n",
       "1        0\n",
       "2        0\n",
       "3        0\n",
       "4        0"
      ]
     },
     "execution_count": 59,
     "metadata": {},
     "output_type": "execute_result"
    }
   ],
   "source": [
    "target.head(5)"
   ]
  },
  {
   "cell_type": "markdown",
   "metadata": {},
   "source": [
    "### Target set has different categories. So, Label encode them. And convert into one-hot vectors using get_dummies in pandas."
   ]
  },
  {
   "cell_type": "code",
   "execution_count": 60,
   "metadata": {},
   "outputs": [],
   "source": [
    "from sklearn.preprocessing import LabelEncoder"
   ]
  },
  {
   "cell_type": "code",
   "execution_count": 61,
   "metadata": {},
   "outputs": [],
   "source": [
    "Y_processed = pd.DataFrame(target).apply(LabelEncoder().fit_transform)"
   ]
  },
  {
   "cell_type": "code",
   "execution_count": 62,
   "metadata": {},
   "outputs": [],
   "source": [
    "testY = tf.keras.utils.to_categorical(Y_processed, num_classes=3)"
   ]
  },
  {
   "cell_type": "code",
   "execution_count": 63,
   "metadata": {},
   "outputs": [
    {
     "data": {
      "text/plain": [
       "array([[1., 0., 0.],\n",
       "       [1., 0., 0.],\n",
       "       [1., 0., 0.],\n",
       "       [1., 0., 0.],\n",
       "       [1., 0., 0.],\n",
       "       [1., 0., 0.],\n",
       "       [1., 0., 0.],\n",
       "       [1., 0., 0.],\n",
       "       [1., 0., 0.],\n",
       "       [1., 0., 0.],\n",
       "       [1., 0., 0.],\n",
       "       [1., 0., 0.],\n",
       "       [1., 0., 0.],\n",
       "       [1., 0., 0.],\n",
       "       [1., 0., 0.],\n",
       "       [1., 0., 0.],\n",
       "       [1., 0., 0.],\n",
       "       [1., 0., 0.],\n",
       "       [1., 0., 0.],\n",
       "       [1., 0., 0.],\n",
       "       [1., 0., 0.],\n",
       "       [1., 0., 0.],\n",
       "       [1., 0., 0.],\n",
       "       [1., 0., 0.],\n",
       "       [1., 0., 0.],\n",
       "       [1., 0., 0.],\n",
       "       [1., 0., 0.],\n",
       "       [1., 0., 0.],\n",
       "       [1., 0., 0.],\n",
       "       [1., 0., 0.],\n",
       "       [1., 0., 0.],\n",
       "       [1., 0., 0.],\n",
       "       [1., 0., 0.],\n",
       "       [1., 0., 0.],\n",
       "       [1., 0., 0.],\n",
       "       [1., 0., 0.],\n",
       "       [1., 0., 0.],\n",
       "       [1., 0., 0.],\n",
       "       [1., 0., 0.],\n",
       "       [1., 0., 0.],\n",
       "       [1., 0., 0.],\n",
       "       [1., 0., 0.],\n",
       "       [1., 0., 0.],\n",
       "       [1., 0., 0.],\n",
       "       [1., 0., 0.],\n",
       "       [1., 0., 0.],\n",
       "       [1., 0., 0.],\n",
       "       [1., 0., 0.],\n",
       "       [1., 0., 0.],\n",
       "       [1., 0., 0.],\n",
       "       [0., 1., 0.],\n",
       "       [0., 1., 0.],\n",
       "       [0., 1., 0.],\n",
       "       [0., 1., 0.],\n",
       "       [0., 1., 0.],\n",
       "       [0., 1., 0.],\n",
       "       [0., 1., 0.],\n",
       "       [0., 1., 0.],\n",
       "       [0., 1., 0.],\n",
       "       [0., 1., 0.],\n",
       "       [0., 1., 0.],\n",
       "       [0., 1., 0.],\n",
       "       [0., 1., 0.],\n",
       "       [0., 1., 0.],\n",
       "       [0., 1., 0.],\n",
       "       [0., 1., 0.],\n",
       "       [0., 1., 0.],\n",
       "       [0., 1., 0.],\n",
       "       [0., 1., 0.],\n",
       "       [0., 1., 0.],\n",
       "       [0., 1., 0.],\n",
       "       [0., 1., 0.],\n",
       "       [0., 1., 0.],\n",
       "       [0., 1., 0.],\n",
       "       [0., 1., 0.],\n",
       "       [0., 1., 0.],\n",
       "       [0., 1., 0.],\n",
       "       [0., 1., 0.],\n",
       "       [0., 1., 0.],\n",
       "       [0., 1., 0.],\n",
       "       [0., 1., 0.],\n",
       "       [0., 1., 0.],\n",
       "       [0., 1., 0.],\n",
       "       [0., 1., 0.],\n",
       "       [0., 1., 0.],\n",
       "       [0., 1., 0.],\n",
       "       [0., 1., 0.],\n",
       "       [0., 1., 0.],\n",
       "       [0., 1., 0.],\n",
       "       [0., 1., 0.],\n",
       "       [0., 1., 0.],\n",
       "       [0., 1., 0.],\n",
       "       [0., 1., 0.],\n",
       "       [0., 1., 0.],\n",
       "       [0., 1., 0.],\n",
       "       [0., 1., 0.],\n",
       "       [0., 1., 0.],\n",
       "       [0., 1., 0.],\n",
       "       [0., 1., 0.],\n",
       "       [0., 1., 0.],\n",
       "       [0., 0., 1.],\n",
       "       [0., 0., 1.],\n",
       "       [0., 0., 1.],\n",
       "       [0., 0., 1.],\n",
       "       [0., 0., 1.],\n",
       "       [0., 0., 1.],\n",
       "       [0., 0., 1.],\n",
       "       [0., 0., 1.],\n",
       "       [0., 0., 1.],\n",
       "       [0., 0., 1.],\n",
       "       [0., 0., 1.],\n",
       "       [0., 0., 1.],\n",
       "       [0., 0., 1.],\n",
       "       [0., 0., 1.],\n",
       "       [0., 0., 1.],\n",
       "       [0., 0., 1.],\n",
       "       [0., 0., 1.],\n",
       "       [0., 0., 1.],\n",
       "       [0., 0., 1.],\n",
       "       [0., 0., 1.],\n",
       "       [0., 0., 1.],\n",
       "       [0., 0., 1.],\n",
       "       [0., 0., 1.],\n",
       "       [0., 0., 1.],\n",
       "       [0., 0., 1.],\n",
       "       [0., 0., 1.],\n",
       "       [0., 0., 1.],\n",
       "       [0., 0., 1.],\n",
       "       [0., 0., 1.],\n",
       "       [0., 0., 1.],\n",
       "       [0., 0., 1.],\n",
       "       [0., 0., 1.],\n",
       "       [0., 0., 1.],\n",
       "       [0., 0., 1.],\n",
       "       [0., 0., 1.],\n",
       "       [0., 0., 1.],\n",
       "       [0., 0., 1.],\n",
       "       [0., 0., 1.],\n",
       "       [0., 0., 1.],\n",
       "       [0., 0., 1.],\n",
       "       [0., 0., 1.],\n",
       "       [0., 0., 1.],\n",
       "       [0., 0., 1.],\n",
       "       [0., 0., 1.],\n",
       "       [0., 0., 1.],\n",
       "       [0., 0., 1.],\n",
       "       [0., 0., 1.],\n",
       "       [0., 0., 1.],\n",
       "       [0., 0., 1.],\n",
       "       [0., 0., 1.]], dtype=float32)"
      ]
     },
     "execution_count": 63,
     "metadata": {},
     "output_type": "execute_result"
    }
   ],
   "source": [
    "testY"
   ]
  },
  {
   "cell_type": "markdown",
   "metadata": {},
   "source": [
    "### Divide the dataset into Training and test (70:30)"
   ]
  },
  {
   "cell_type": "code",
   "execution_count": 64,
   "metadata": {},
   "outputs": [],
   "source": [
    "from sklearn.model_selection import train_test_split\n",
    "transformer = Normalizer()\n",
    "#features = transformer.fit_transform(features)\n",
    "\n",
    "train_x, test_x,train_y,test_y = train_test_split(features, testY, test_size=.3, random_state=7)"
   ]
  },
  {
   "cell_type": "markdown",
   "metadata": {},
   "source": [
    "### Model\n",
    "Build the model with following layers: <br>\n",
    "1. First dense layer with 10 neurons with input shape 4 (according to the feature set) <br>\n",
    "2. Second Dense layer with 8 neurons <br>\n",
    "3. Output layer with 3 neurons with softmax activation (output layer, 3 neurons as we have 3 classes) <br>\n",
    "4. Use SGD and categorical_crossentropy loss "
   ]
  },
  {
   "cell_type": "code",
   "execution_count": 65,
   "metadata": {},
   "outputs": [],
   "source": [
    "model = tf.keras.models.Sequential()\n",
    "model.add(tf.keras.layers.BatchNormalization())\n",
    "\n",
    "model.add(tf.keras.layers.Dense(10, activation='relu', input_shape=(4,)))\n",
    "model.add(tf.keras.layers.Dense(8, activation='relu'))\n",
    "model.add(tf.keras.layers.Dense(3, activation='softmax'))\n",
    "\n",
    "#Create optimizer with non-default learning rate\n",
    "sgd_optimizer = tf.keras.optimizers.SGD(lr=0.03)\n",
    "\n",
    "#Compile the model\n",
    "model.compile(optimizer=sgd_optimizer, loss='categorical_crossentropy', metrics=['accuracy'])"
   ]
  },
  {
   "cell_type": "markdown",
   "metadata": {},
   "source": [
    "### Fitting the model and predicting "
   ]
  },
  {
   "cell_type": "code",
   "execution_count": 66,
   "metadata": {},
   "outputs": [
    {
     "name": "stdout",
     "output_type": "stream",
     "text": [
      "Train on 84 samples, validate on 21 samples\n",
      "Epoch 1/30\n",
      "84/84 [==============================] - 2s 24ms/sample - loss: 1.0351 - acc: 0.5833 - val_loss: 1.2510 - val_acc: 0.3333\n",
      "Epoch 2/30\n",
      "84/84 [==============================] - 0s 324us/sample - loss: 1.0221 - acc: 0.5714 - val_loss: 1.2001 - val_acc: 0.3333\n",
      "Epoch 3/30\n",
      "84/84 [==============================] - 0s 238us/sample - loss: 0.9958 - acc: 0.6429 - val_loss: 1.1528 - val_acc: 0.3333\n",
      "Epoch 4/30\n",
      "84/84 [==============================] - 0s 190us/sample - loss: 0.9724 - acc: 0.7500 - val_loss: 1.1098 - val_acc: 0.3333\n",
      "Epoch 5/30\n",
      "84/84 [==============================] - 0s 190us/sample - loss: 0.9540 - acc: 0.7857 - val_loss: 1.0666 - val_acc: 0.3810\n",
      "Epoch 6/30\n",
      "84/84 [==============================] - 0s 143us/sample - loss: 0.9359 - acc: 0.7024 - val_loss: 1.0337 - val_acc: 0.4762\n",
      "Epoch 7/30\n",
      "84/84 [==============================] - 0s 143us/sample - loss: 0.9228 - acc: 0.6667 - val_loss: 1.0024 - val_acc: 0.6190\n",
      "Epoch 8/30\n",
      "84/84 [==============================] - 0s 143us/sample - loss: 0.8819 - acc: 0.7262 - val_loss: 0.9751 - val_acc: 0.6190\n",
      "Epoch 9/30\n",
      "84/84 [==============================] - 0s 143us/sample - loss: 0.8659 - acc: 0.7024 - val_loss: 0.9473 - val_acc: 0.6190\n",
      "Epoch 10/30\n",
      "84/84 [==============================] - 0s 143us/sample - loss: 0.8404 - acc: 0.7143 - val_loss: 0.9208 - val_acc: 0.6190\n",
      "Epoch 11/30\n",
      "84/84 [==============================] - 0s 143us/sample - loss: 0.8148 - acc: 0.7262 - val_loss: 0.8992 - val_acc: 0.6190\n",
      "Epoch 12/30\n",
      "84/84 [==============================] - 0s 238us/sample - loss: 0.7853 - acc: 0.7024 - val_loss: 0.8783 - val_acc: 0.6190\n",
      "Epoch 13/30\n",
      "84/84 [==============================] - 0s 238us/sample - loss: 0.7576 - acc: 0.7143 - val_loss: 0.8604 - val_acc: 0.6190\n",
      "Epoch 14/30\n",
      "84/84 [==============================] - 0s 285us/sample - loss: 0.7305 - acc: 0.7143 - val_loss: 0.8488 - val_acc: 0.6190\n",
      "Epoch 15/30\n",
      "84/84 [==============================] - 0s 190us/sample - loss: 0.7000 - acc: 0.7024 - val_loss: 0.8395 - val_acc: 0.6190\n",
      "Epoch 16/30\n",
      "84/84 [==============================] - 0s 428us/sample - loss: 0.6750 - acc: 0.7024 - val_loss: 0.8318 - val_acc: 0.6190\n",
      "Epoch 17/30\n",
      "84/84 [==============================] - 0s 333us/sample - loss: 0.6532 - acc: 0.7024 - val_loss: 0.8262 - val_acc: 0.6190\n",
      "Epoch 18/30\n",
      "84/84 [==============================] - 0s 285us/sample - loss: 0.6424 - acc: 0.7143 - val_loss: 0.8217 - val_acc: 0.6190\n",
      "Epoch 19/30\n",
      "84/84 [==============================] - 0s 143us/sample - loss: 0.6168 - acc: 0.7024 - val_loss: 0.8078 - val_acc: 0.6190\n",
      "Epoch 20/30\n",
      "84/84 [==============================] - 0s 143us/sample - loss: 0.5960 - acc: 0.7262 - val_loss: 0.7977 - val_acc: 0.6190\n",
      "Epoch 21/30\n",
      "84/84 [==============================] - 0s 190us/sample - loss: 0.5987 - acc: 0.7381 - val_loss: 0.7958 - val_acc: 0.6190\n",
      "Epoch 22/30\n",
      "84/84 [==============================] - 0s 143us/sample - loss: 0.5600 - acc: 0.7381 - val_loss: 0.8006 - val_acc: 0.6190\n",
      "Epoch 23/30\n",
      "84/84 [==============================] - 0s 143us/sample - loss: 0.5316 - acc: 0.7381 - val_loss: 0.7989 - val_acc: 0.6190\n",
      "Epoch 24/30\n",
      "84/84 [==============================] - 0s 143us/sample - loss: 0.5175 - acc: 0.7262 - val_loss: 0.7953 - val_acc: 0.6190\n",
      "Epoch 25/30\n",
      "84/84 [==============================] - 0s 143us/sample - loss: 0.5117 - acc: 0.7500 - val_loss: 0.7923 - val_acc: 0.6190\n",
      "Epoch 26/30\n",
      "84/84 [==============================] - 0s 143us/sample - loss: 0.4959 - acc: 0.7381 - val_loss: 0.7922 - val_acc: 0.6190\n",
      "Epoch 27/30\n",
      "84/84 [==============================] - 0s 143us/sample - loss: 0.4793 - acc: 0.7381 - val_loss: 0.7822 - val_acc: 0.6190\n",
      "Epoch 28/30\n",
      "84/84 [==============================] - 0s 190us/sample - loss: 0.5030 - acc: 0.8095 - val_loss: 0.7751 - val_acc: 0.6190\n",
      "Epoch 29/30\n",
      "84/84 [==============================] - 0s 190us/sample - loss: 0.4666 - acc: 0.7857 - val_loss: 0.7647 - val_acc: 0.6190\n",
      "Epoch 30/30\n",
      "84/84 [==============================] - 0s 333us/sample - loss: 0.4767 - acc: 0.7976 - val_loss: 0.7445 - val_acc: 0.6190\n"
     ]
    },
    {
     "data": {
      "text/plain": [
       "<tensorflow.python.keras.callbacks.History at 0x24eae42d278>"
      ]
     },
     "execution_count": 66,
     "metadata": {},
     "output_type": "execute_result"
    }
   ],
   "source": [
    "#train model\n",
    "model.fit(train_x.values, train_y, validation_split=0.2, epochs=30)"
   ]
  },
  {
   "cell_type": "code",
   "execution_count": null,
   "metadata": {},
   "outputs": [],
   "source": []
  },
  {
   "cell_type": "markdown",
   "metadata": {},
   "source": [
    "### Report Accuracy of the predicted values"
   ]
  },
  {
   "cell_type": "code",
   "execution_count": 67,
   "metadata": {},
   "outputs": [
    {
     "name": "stdout",
     "output_type": "stream",
     "text": [
      "45/45 [==============================] - 0s 1ms/sample - loss: 0.7739 - acc: 0.6444\n"
     ]
    },
    {
     "data": {
      "text/plain": [
       "[0.7739126867718167, 0.64444447]"
      ]
     },
     "execution_count": 67,
     "metadata": {},
     "output_type": "execute_result"
    }
   ],
   "source": [
    "model.evaluate(test_x,test_y)"
   ]
  },
  {
   "cell_type": "code",
   "execution_count": 68,
   "metadata": {},
   "outputs": [
    {
     "name": "stdout",
     "output_type": "stream",
     "text": [
      "_________________________________________________________________\n",
      "Layer (type)                 Output Shape              Param #   \n",
      "=================================================================\n",
      "batch_normalization_v1 (Batc multiple                  16        \n",
      "_________________________________________________________________\n",
      "dense_1 (Dense)              multiple                  50        \n",
      "_________________________________________________________________\n",
      "dense_2 (Dense)              multiple                  88        \n",
      "_________________________________________________________________\n",
      "dense_3 (Dense)              multiple                  27        \n",
      "=================================================================\n",
      "Total params: 181\n",
      "Trainable params: 173\n",
      "Non-trainable params: 8\n",
      "_________________________________________________________________\n"
     ]
    }
   ],
   "source": [
    "model.summary()"
   ]
  },
  {
   "cell_type": "code",
   "execution_count": null,
   "metadata": {},
   "outputs": [],
   "source": []
  },
  {
   "cell_type": "code",
   "execution_count": null,
   "metadata": {},
   "outputs": [],
   "source": []
  }
 ],
 "metadata": {
  "colab": {
   "name": "Linear+classification+using+Tensorflow+and+Keras.ipynb",
   "provenance": [],
   "version": "0.3.2"
  },
  "kernelspec": {
   "display_name": "Python 3",
   "language": "python",
   "name": "python3"
  },
  "language_info": {
   "codemirror_mode": {
    "name": "ipython",
    "version": 3
   },
   "file_extension": ".py",
   "mimetype": "text/x-python",
   "name": "python",
   "nbconvert_exporter": "python",
   "pygments_lexer": "ipython3",
   "version": "3.7.1"
  }
 },
 "nbformat": 4,
 "nbformat_minor": 1
}
