{
  "nbformat": 4,
  "nbformat_minor": 0,
  "metadata": {
    "colab": {
      "name": "Lab_siamese_nn_Recognize_icebergs_and_ships_Questions_ipynb_Lab10_VenkataBangaraRao.ipynb",
      "provenance": [],
      "collapsed_sections": [],
      "toc_visible": true
    },
    "kernelspec": {
      "display_name": "Python 3",
      "language": "python",
      "name": "python3"
    },
    "language_info": {
      "codemirror_mode": {
        "name": "ipython",
        "version": 3
      },
      "file_extension": ".py",
      "mimetype": "text/x-python",
      "name": "python",
      "nbconvert_exporter": "python",
      "pygments_lexer": "ipython3",
      "version": "3.7.3"
    }
  },
  "cells": [
    {
      "cell_type": "markdown",
      "metadata": {
        "_cell_guid": "608e43e3-8699-4299-9d18-9e9a6a3dd9bf",
        "_uuid": "434ffd54c774edd4e8b851ab0a4b6675425e46da",
        "colab_type": "text",
        "id": "AAwTiVQYHe5U"
      },
      "source": [
        "# Siamese Neural Networks\n",
        "Recognize images of icebergs from images of ships. \n",
        "These images were taken from space with a Sentinel-4 satellite. The goal was to create the most accurate neural network to differentiate them. However, neural networks usually only work well with A LOT of data, and I constrained you guys to 1000 examples to train on. That seems like a lot, but a CONVENTIONAL neural network needs more data. However, we are going to make a special kind of neural network: *Siamese Network*. This special network is used for face recognition and few-shot learning(learning from few examples). Let's get started by importing the usual liraries:"
      ]
    },
    {
      "cell_type": "code",
      "metadata": {
        "_cell_guid": "b1076dfc-b9ad-4769-8c92-a6c4dae69d19",
        "_uuid": "8f2839f25d086af736a60e9eeb907d3b93b6e0e5",
        "colab_type": "code",
        "id": "fgVvddfRHe5W",
        "colab": {
          "base_uri": "https://localhost:8080/",
          "height": 80
        },
        "outputId": "02155752-a4e3-491f-8e7d-114e41d02856"
      },
      "source": [
        "from keras.layers import Input, Conv2D, Lambda, merge, Dense, Flatten,MaxPooling2D,Activation, Dropout\n",
        "from keras.models import Model, Sequential\n",
        "from keras.regularizers import l2\n",
        "from keras import backend as K\n",
        "from keras.optimizers import Adam\n",
        "from skimage.io import imshow\n",
        "import matplotlib.pyplot as plt\n",
        "import numpy as np\n",
        "import pandas as pd\n",
        "import random"
      ],
      "execution_count": 1,
      "outputs": [
        {
          "output_type": "stream",
          "text": [
            "Using TensorFlow backend.\n"
          ],
          "name": "stderr"
        },
        {
          "output_type": "display_data",
          "data": {
            "text/html": [
              "<p style=\"color: red;\">\n",
              "The default version of TensorFlow in Colab will soon switch to TensorFlow 2.x.<br>\n",
              "We recommend you <a href=\"https://www.tensorflow.org/guide/migrate\" target=\"_blank\">upgrade</a> now \n",
              "or ensure your notebook will continue to use TensorFlow 1.x via the <code>%tensorflow_version 1.x</code> magic:\n",
              "<a href=\"https://colab.research.google.com/notebooks/tensorflow_version.ipynb\" target=\"_blank\">more info</a>.</p>\n"
            ],
            "text/plain": [
              "<IPython.core.display.HTML object>"
            ]
          },
          "metadata": {
            "tags": []
          }
        }
      ]
    },
    {
      "cell_type": "code",
      "metadata": {
        "id": "RviOpmTtVuh_",
        "colab_type": "code",
        "colab": {}
      },
      "source": [
        "np_load_old = np.load\n",
        "\n",
        "# modify the default parameters of np.load\n",
        "np.load = lambda *a,**k: np_load_old(*a, allow_pickle=True, **k)"
      ],
      "execution_count": 0,
      "outputs": []
    },
    {
      "cell_type": "markdown",
      "metadata": {
        "_cell_guid": "adbffb0a-1784-4595-b3f2-2ea930abc31f",
        "_uuid": "b9200b733a896e4b6f261122fe9134c00955cc91",
        "colab_type": "text",
        "id": "Z6DmjmZkHe5a"
      },
      "source": [
        "## Load the Data\n"
      ]
    },
    {
      "cell_type": "code",
      "metadata": {
        "_cell_guid": "79c7e3d0-c299-4dcb-8224-4455121ee9b0",
        "_uuid": "d629ff2d2480ee46fbb7e2d37f6b5fab8052498a",
        "colab_type": "code",
        "id": "B2bnqe2eHe5a",
        "outputId": "18079aad-752b-4466-c185-4c48aef063fa",
        "colab": {
          "base_uri": "https://localhost:8080/",
          "height": 34
        }
      },
      "source": [
        "npz = np.load('/content/drive/My Drive/Lab_GL/input_data.npz')\n",
        "X_train = npz['X_train']\n",
        "Y_train = npz['Y_train']\n",
        "del npz\n",
        "print ('We have {} examples to work with'.format(Y_train.shape[0]-1000))\n",
        "\n"
      ],
      "execution_count": 12,
      "outputs": [
        {
          "output_type": "stream",
          "text": [
            "We have 3113 examples to work with\n"
          ],
          "name": "stdout"
        }
      ]
    },
    {
      "cell_type": "markdown",
      "metadata": {
        "_cell_guid": "ed28bc84-1a8a-472f-98ae-9553fe6d1097",
        "_uuid": "b2e2306b8b16ae7f4f9b63249d1f2ff6e29559d3",
        "colab_type": "text",
        "id": "drcVjqFfHe5e"
      },
      "source": [
        "## Check the data\n",
        "\n",
        "Load some of the images to observe how your data look like."
      ]
    },
    {
      "cell_type": "code",
      "metadata": {
        "colab_type": "code",
        "id": "sXBaPDB8He5f",
        "outputId": "5c9ba2f8-6762-4d0a-ba04-0c344a9ebfd3",
        "colab": {
          "base_uri": "https://localhost:8080/",
          "height": 314
        }
      },
      "source": [
        "ix = 150 \n",
        "imshow(np.squeeze(X_train[ix,:,:,2]))#Looking at the combined channel\n",
        "plt.show()\n",
        "labels = ['Ship','Iceberg']#0 is no iceberg(ship) and 1 is iceberg\n",
        "print ('This is:',labels[int(Y_train[ix])])"
      ],
      "execution_count": 15,
      "outputs": [
        {
          "output_type": "display_data",
          "data": {
            "image/png": "[encoded data removed]",
            "text/plain": [
              "<Figure size 432x288 with 2 Axes>"
            ]
          },
          "metadata": {
            "tags": []
          }
        },
        {
          "output_type": "stream",
          "text": [
            "This is: Iceberg\n"
          ],
          "name": "stdout"
        }
      ]
    },
    {
      "cell_type": "markdown",
      "metadata": {
        "colab_type": "text",
        "id": "NOUTMUyQHe5h"
      },
      "source": [
        "# Creating the structure of Siamese Network"
      ]
    },
    {
      "cell_type": "markdown",
      "metadata": {
        "colab_type": "raw",
        "id": "x7nbmRNnHe5i"
      },
      "source": [
        "You just need to break it into some steps:\n",
        "1. 2 Inputs for each images\n",
        "2. Creating a network which both images will go through individually\n",
        "3. Couple the network to each input\n",
        "4. Calculate the L1 distance between them. Just (x1,y1)-(x2,y2)\n",
        "5. 1 Added layer that will say 1 if they are the same and 0 if they are different"
      ]
    },
    {
      "cell_type": "markdown",
      "metadata": {
        "colab_type": "text",
        "id": "XkF7wsk9He5j"
      },
      "source": [
        "# Create two Inputs for each image - left_input and right_input\n",
        "Hint - use Input Function in Keras and keep the shape to be 75,75,3"
      ]
    },
    {
      "cell_type": "code",
      "metadata": {
        "colab_type": "code",
        "id": "H4_7NNSGHe5j",
        "outputId": "b98b778e-22ed-484a-e1c5-c37ff28a2dc2",
        "colab": {
          "base_uri": "https://localhost:8080/",
          "height": 105
        }
      },
      "source": [
        "# We have 2 inputs, 1 for each picture\n",
        "left_input = Input((75,75,3))\n",
        "right_input = Input((75,75,3))"
      ],
      "execution_count": 16,
      "outputs": [
        {
          "output_type": "stream",
          "text": [
            "WARNING:tensorflow:From /usr/local/lib/python3.6/dist-packages/keras/backend/tensorflow_backend.py:66: The name tf.get_default_graph is deprecated. Please use tf.compat.v1.get_default_graph instead.\n",
            "\n",
            "WARNING:tensorflow:From /usr/local/lib/python3.6/dist-packages/keras/backend/tensorflow_backend.py:541: The name tf.placeholder is deprecated. Please use tf.compat.v1.placeholder instead.\n",
            "\n"
          ],
          "name": "stdout"
        }
      ]
    },
    {
      "cell_type": "markdown",
      "metadata": {
        "colab_type": "text",
        "id": "HOQD_RPwHe5m"
      },
      "source": [
        "# Create a base Network in which both images will go through individually.\n",
        "\n",
        "Hint - Use Sequential Model in Keras with convolution layers, Maxpooling Layers, Flatten Layer and Denser Layer with appropriate activation functions.\n",
        "Name the network as base_network"
      ]
    },
    {
      "cell_type": "code",
      "metadata": {
        "colab_type": "code",
        "id": "RfqCwBcgHe5m",
        "outputId": "3ffda893-b11a-44ef-beb3-bfa54e1d2cdb",
        "colab": {
          "base_uri": "https://localhost:8080/",
          "height": 85
        }
      },
      "source": [
        "base_network = Sequential([Conv2D(5,3, input_shape=(75,75,3)),Activation('relu'),MaxPooling2D(),Conv2D(5,3),Activation('relu'),MaxPooling2D(),Conv2D(7,2),\n",
        "    Activation('relu'),MaxPooling2D(),Conv2D(7,2),\n",
        "    Activation('relu'),Flatten(),Dense(18),Activation('sigmoid')])"
      ],
      "execution_count": 17,
      "outputs": [
        {
          "output_type": "stream",
          "text": [
            "WARNING:tensorflow:From /usr/local/lib/python3.6/dist-packages/keras/backend/tensorflow_backend.py:4432: The name tf.random_uniform is deprecated. Please use tf.random.uniform instead.\n",
            "\n",
            "WARNING:tensorflow:From /usr/local/lib/python3.6/dist-packages/keras/backend/tensorflow_backend.py:4267: The name tf.nn.max_pool is deprecated. Please use tf.nn.max_pool2d instead.\n",
            "\n"
          ],
          "name": "stdout"
        }
      ]
    },
    {
      "cell_type": "code",
      "metadata": {
        "colab_type": "code",
        "id": "qH8P0M7RHe5o",
        "colab": {}
      },
      "source": [
        ""
      ],
      "execution_count": 0,
      "outputs": []
    },
    {
      "cell_type": "markdown",
      "metadata": {
        "colab_type": "text",
        "id": "2mM3Oi1-He5q"
      },
      "source": [
        "# Process the left and right inputs to the same Base Network(base_network)"
      ]
    },
    {
      "cell_type": "code",
      "metadata": {
        "colab_type": "code",
        "id": "jUrJ0nniHe5r",
        "colab": {}
      },
      "source": [
        "encoded_l = base_network(left_input)\n",
        "encoded_r = base_network(right_input)"
      ],
      "execution_count": 0,
      "outputs": []
    },
    {
      "cell_type": "code",
      "metadata": {
        "colab_type": "code",
        "id": "eQmV1NfGHe5s",
        "colab": {}
      },
      "source": [
        ""
      ],
      "execution_count": 0,
      "outputs": []
    },
    {
      "cell_type": "markdown",
      "metadata": {
        "colab_type": "text",
        "id": "xsJ96PbnHe5u"
      },
      "source": [
        "# Get the L1 Distance layer between the 2 processed encodings (processed_a and processed_b)\n",
        "Hint - You can use Lambda function for this."
      ]
    },
    {
      "cell_type": "code",
      "metadata": {
        "colab_type": "code",
        "id": "itTNKBPGHe5v",
        "colab": {}
      },
      "source": [
        "L1_layer = Lambda(lambda tensor:K.abs(tensor[0] - tensor[1]))"
      ],
      "execution_count": 0,
      "outputs": []
    },
    {
      "cell_type": "code",
      "metadata": {
        "colab_type": "code",
        "id": "FSc0jf2sHe5x",
        "colab": {}
      },
      "source": [
        "L1_distance = L1_layer([encoded_l, encoded_r])"
      ],
      "execution_count": 0,
      "outputs": []
    },
    {
      "cell_type": "markdown",
      "metadata": {
        "colab_type": "text",
        "id": "fX2SURvuHe50"
      },
      "source": [
        "# Add the prediction layer in the end and create the Siamese Network using Model function."
      ]
    },
    {
      "cell_type": "code",
      "metadata": {
        "colab_type": "code",
        "id": "KNu7ftBWHe50",
        "colab": {}
      },
      "source": [
        "prediction = Dense(1,activation='sigmoid')(L1_distance)\n",
        "siamese_net = Model(inputs=[left_input,right_input],outputs=prediction)\n",
        "\n"
      ],
      "execution_count": 0,
      "outputs": []
    },
    {
      "cell_type": "markdown",
      "metadata": {
        "colab_type": "text",
        "id": "CK5-WJgLHe53"
      },
      "source": [
        "# Define the Optimizer Adam and Compile the Siamese Model."
      ]
    },
    {
      "cell_type": "code",
      "metadata": {
        "colab_type": "code",
        "id": "8LDGrcVYHe54",
        "outputId": "45681973-43f9-4973-97dd-22454a7713e6",
        "colab": {
          "base_uri": "https://localhost:8080/",
          "height": 156
        }
      },
      "source": [
        "optimizer = Adam(0.001, decay=2.5e-4)\n",
        "#//TODO: get layerwise learning rates and momentum annealing scheme described in paperworking\n",
        "siamese_net.compile(loss=\"binary_crossentropy\",optimizer=optimizer,metrics=['accuracy'])"
      ],
      "execution_count": 22,
      "outputs": [
        {
          "output_type": "stream",
          "text": [
            "WARNING:tensorflow:From /usr/local/lib/python3.6/dist-packages/keras/optimizers.py:793: The name tf.train.Optimizer is deprecated. Please use tf.compat.v1.train.Optimizer instead.\n",
            "\n",
            "WARNING:tensorflow:From /usr/local/lib/python3.6/dist-packages/keras/backend/tensorflow_backend.py:3657: The name tf.log is deprecated. Please use tf.math.log instead.\n",
            "\n",
            "WARNING:tensorflow:From /usr/local/lib/python3.6/dist-packages/tensorflow_core/python/ops/nn_impl.py:183: where (from tensorflow.python.ops.array_ops) is deprecated and will be removed in a future version.\n",
            "Instructions for updating:\n",
            "Use tf.where in 2.0, which has the same broadcast rule as np.where\n"
          ],
          "name": "stdout"
        }
      ]
    },
    {
      "cell_type": "markdown",
      "metadata": {
        "_cell_guid": "dbba8e74-6b9c-4c84-96ed-55137265280b",
        "_uuid": "28e3843cae1a192bb14eb04cc1fe1705ef69f405",
        "colab_type": "text",
        "id": "zz8f8v_MHe55"
      },
      "source": [
        "# Show the Summary of your Siamese Network"
      ]
    },
    {
      "cell_type": "code",
      "metadata": {
        "colab_type": "code",
        "id": "isEpPIe2He56",
        "outputId": "e4cf916a-21f7-4ef1-8231-a3d76d1cffe0",
        "colab": {
          "base_uri": "https://localhost:8080/",
          "height": 629
        }
      },
      "source": [
        "base_network.summary()"
      ],
      "execution_count": 23,
      "outputs": [
        {
          "output_type": "stream",
          "text": [
            "Model: \"sequential_1\"\n",
            "_________________________________________________________________\n",
            "Layer (type)                 Output Shape              Param #   \n",
            "=================================================================\n",
            "conv2d_1 (Conv2D)            (None, 73, 73, 5)         140       \n",
            "_________________________________________________________________\n",
            "activation_1 (Activation)    (None, 73, 73, 5)         0         \n",
            "_________________________________________________________________\n",
            "max_pooling2d_1 (MaxPooling2 (None, 36, 36, 5)         0         \n",
            "_________________________________________________________________\n",
            "conv2d_2 (Conv2D)            (None, 34, 34, 5)         230       \n",
            "_________________________________________________________________\n",
            "activation_2 (Activation)    (None, 34, 34, 5)         0         \n",
            "_________________________________________________________________\n",
            "max_pooling2d_2 (MaxPooling2 (None, 17, 17, 5)         0         \n",
            "_________________________________________________________________\n",
            "conv2d_3 (Conv2D)            (None, 16, 16, 7)         147       \n",
            "_________________________________________________________________\n",
            "activation_3 (Activation)    (None, 16, 16, 7)         0         \n",
            "_________________________________________________________________\n",
            "max_pooling2d_3 (MaxPooling2 (None, 8, 8, 7)           0         \n",
            "_________________________________________________________________\n",
            "conv2d_4 (Conv2D)            (None, 7, 7, 7)           203       \n",
            "_________________________________________________________________\n",
            "activation_4 (Activation)    (None, 7, 7, 7)           0         \n",
            "_________________________________________________________________\n",
            "flatten_1 (Flatten)          (None, 343)               0         \n",
            "_________________________________________________________________\n",
            "dense_1 (Dense)              (None, 18)                6192      \n",
            "_________________________________________________________________\n",
            "activation_5 (Activation)    (None, 18)                0         \n",
            "=================================================================\n",
            "Total params: 6,912\n",
            "Trainable params: 6,912\n",
            "Non-trainable params: 0\n",
            "_________________________________________________________________\n"
          ],
          "name": "stdout"
        }
      ]
    },
    {
      "cell_type": "markdown",
      "metadata": {
        "colab_type": "text",
        "id": "ZJ6DjzuvHe57"
      },
      "source": [
        "# Creating the Pair of Images to train on"
      ]
    },
    {
      "cell_type": "markdown",
      "metadata": {
        "_cell_guid": "7080234f-01f4-4df1-88a7-459746335c50",
        "_uuid": "4553890c8130dc76076252a09290497a4afc27e6",
        "colab_type": "text",
        "id": "ItsZ_9rVHe58"
      },
      "source": [
        "It's not time to train though. We still have to create pairs of images to train on. There will be Positive(the same class) or Negative(different classes) for outputs. Let's construct this dataset. It is recommended that there are equal amounts positive and negative."
      ]
    },
    {
      "cell_type": "code",
      "metadata": {
        "_cell_guid": "32cb30db-144d-4f93-af05-6cb9a697c084",
        "_uuid": "09a3e9d488acd34e99912c5f01474029e77637f5",
        "colab_type": "code",
        "id": "MzklmoWjHe59",
        "colab": {}
      },
      "source": [
        "# First let's separate the dataset from 1 matrix to a list of matricies\n",
        "image_list = np.split(X_train[:1000],1000)\n",
        "label_list = np.split(Y_train[:1000],1000)\n",
        "\n",
        "left_input = []\n",
        "right_input = []\n",
        "targets = []\n",
        "\n",
        "#Number of pairs per image\n",
        "pairs = 5\n",
        "#Let's create the new dataset to train on\n",
        "for i in range(len(label_list)):\n",
        "    for _ in range(pairs):\n",
        "        compare_to = i\n",
        "        while compare_to == i: #Make sure it's not comparing to itself\n",
        "            compare_to = random.randint(0,999)\n",
        "        left_input.append(image_list[i])\n",
        "        right_input.append(image_list[compare_to])\n",
        "        if label_list[i] == label_list[compare_to]:# They are the same\n",
        "            targets.append(1.)\n",
        "        else:# Not the same\n",
        "            targets.append(0.)\n",
        "            \n",
        "left_input = np.squeeze(np.array(left_input))\n",
        "right_input = np.squeeze(np.array(right_input))\n",
        "targets = np.squeeze(np.array(targets))\n",
        "\n",
        "iceimage = X_train[101]\n",
        "test_left = []\n",
        "test_right = []\n",
        "test_targets = []\n",
        "\n",
        "for i in range(Y_train.shape[0]-1000):\n",
        "    test_left.append(iceimage)\n",
        "    test_right.append(X_train[i+1000])\n",
        "    test_targets.append(Y_train[i+1000])\n",
        "\n",
        "test_left = np.squeeze(np.array(test_left))\n",
        "test_right = np.squeeze(np.array(test_right))\n",
        "test_targets = np.squeeze(np.array(test_targets))"
      ],
      "execution_count": 0,
      "outputs": []
    },
    {
      "cell_type": "markdown",
      "metadata": {
        "colab_type": "text",
        "id": "TnrVPFmqHe5-"
      },
      "source": [
        "Now we have a lot more examples.\n",
        "Now we have pairs x 1000 examples to train the network on. \n",
        "Each side will have an input of an image and the output will be one if they are the same and zero if not."
      ]
    },
    {
      "cell_type": "markdown",
      "metadata": {
        "colab_type": "text",
        "id": "2hgaP2i8He5_"
      },
      "source": [
        "# Train the Siamese train on left and right input image pairs created and validate it by test pairs."
      ]
    },
    {
      "cell_type": "code",
      "metadata": {
        "colab_type": "code",
        "id": "g_51pyVPHe6A",
        "outputId": "cb39ffee-0588-4bcb-c051-4a16e63f3683",
        "colab": {
          "base_uri": "https://localhost:8080/",
          "height": 1000
        }
      },
      "source": [
        "siamese_net.summary()\n",
        "siamese_net.fit([left_input,right_input], targets,\n",
        "          batch_size=16,\n",
        "          epochs=30,\n",
        "          verbose=1,\n",
        "          validation_data=([test_left,test_right],test_targets))"
      ],
      "execution_count": 25,
      "outputs": [
        {
          "output_type": "stream",
          "text": [
            "Model: \"model_1\"\n",
            "__________________________________________________________________________________________________\n",
            "Layer (type)                    Output Shape         Param #     Connected to                     \n",
            "==================================================================================================\n",
            "input_1 (InputLayer)            (None, 75, 75, 3)    0                                            \n",
            "__________________________________________________________________________________________________\n",
            "input_2 (InputLayer)            (None, 75, 75, 3)    0                                            \n",
            "__________________________________________________________________________________________________\n",
            "sequential_1 (Sequential)       (None, 18)           6912        input_1[0][0]                    \n",
            "                                                                 input_2[0][0]                    \n",
            "__________________________________________________________________________________________________\n",
            "lambda_1 (Lambda)               (None, 18)           0           sequential_1[1][0]               \n",
            "                                                                 sequential_1[2][0]               \n",
            "__________________________________________________________________________________________________\n",
            "dense_2 (Dense)                 (None, 1)            19          lambda_1[0][0]                   \n",
            "==================================================================================================\n",
            "Total params: 6,931\n",
            "Trainable params: 6,931\n",
            "Non-trainable params: 0\n",
            "__________________________________________________________________________________________________\n",
            "WARNING:tensorflow:From /usr/local/lib/python3.6/dist-packages/keras/backend/tensorflow_backend.py:1033: The name tf.assign_add is deprecated. Please use tf.compat.v1.assign_add instead.\n",
            "\n",
            "WARNING:tensorflow:From /usr/local/lib/python3.6/dist-packages/keras/backend/tensorflow_backend.py:1020: The name tf.assign is deprecated. Please use tf.compat.v1.assign instead.\n",
            "\n",
            "WARNING:tensorflow:From /usr/local/lib/python3.6/dist-packages/keras/backend/tensorflow_backend.py:3005: The name tf.Session is deprecated. Please use tf.compat.v1.Session instead.\n",
            "\n",
            "Train on 5000 samples, validate on 3113 samples\n",
            "Epoch 1/30\n",
            "WARNING:tensorflow:From /usr/local/lib/python3.6/dist-packages/keras/backend/tensorflow_backend.py:190: The name tf.get_default_session is deprecated. Please use tf.compat.v1.get_default_session instead.\n",
            "\n",
            "WARNING:tensorflow:From /usr/local/lib/python3.6/dist-packages/keras/backend/tensorflow_backend.py:197: The name tf.ConfigProto is deprecated. Please use tf.compat.v1.ConfigProto instead.\n",
            "\n",
            "WARNING:tensorflow:From /usr/local/lib/python3.6/dist-packages/keras/backend/tensorflow_backend.py:207: The name tf.global_variables is deprecated. Please use tf.compat.v1.global_variables instead.\n",
            "\n",
            "WARNING:tensorflow:From /usr/local/lib/python3.6/dist-packages/keras/backend/tensorflow_backend.py:216: The name tf.is_variable_initialized is deprecated. Please use tf.compat.v1.is_variable_initialized instead.\n",
            "\n",
            "WARNING:tensorflow:From /usr/local/lib/python3.6/dist-packages/keras/backend/tensorflow_backend.py:223: The name tf.variables_initializer is deprecated. Please use tf.compat.v1.variables_initializer instead.\n",
            "\n",
            "5000/5000 [==============================] - 42s 8ms/step - loss: 0.6704 - acc: 0.5700 - val_loss: 0.7567 - val_acc: 0.4317\n",
            "Epoch 2/30\n",
            "5000/5000 [==============================] - 41s 8ms/step - loss: 0.6001 - acc: 0.6864 - val_loss: 0.6550 - val_acc: 0.6348\n",
            "Epoch 3/30\n",
            "5000/5000 [==============================] - 41s 8ms/step - loss: 0.5301 - acc: 0.7524 - val_loss: 0.4946 - val_acc: 0.8098\n",
            "Epoch 4/30\n",
            "5000/5000 [==============================] - 40s 8ms/step - loss: 0.4807 - acc: 0.7858 - val_loss: 0.6306 - val_acc: 0.6624\n",
            "Epoch 5/30\n",
            "5000/5000 [==============================] - 41s 8ms/step - loss: 0.4486 - acc: 0.8050 - val_loss: 0.4846 - val_acc: 0.8143\n",
            "Epoch 6/30\n",
            "5000/5000 [==============================] - 41s 8ms/step - loss: 0.4271 - acc: 0.8210 - val_loss: 0.5524 - val_acc: 0.7520\n",
            "Epoch 7/30\n",
            "5000/5000 [==============================] - 40s 8ms/step - loss: 0.4096 - acc: 0.8278 - val_loss: 0.6027 - val_acc: 0.6826\n",
            "Epoch 8/30\n",
            "5000/5000 [==============================] - 40s 8ms/step - loss: 0.3916 - acc: 0.8388 - val_loss: 0.4599 - val_acc: 0.8188\n",
            "Epoch 9/30\n",
            "5000/5000 [==============================] - 40s 8ms/step - loss: 0.3758 - acc: 0.8468 - val_loss: 0.4428 - val_acc: 0.8227\n",
            "Epoch 10/30\n",
            "5000/5000 [==============================] - 40s 8ms/step - loss: 0.3659 - acc: 0.8514 - val_loss: 0.4867 - val_acc: 0.8024\n",
            "Epoch 11/30\n",
            "5000/5000 [==============================] - 41s 8ms/step - loss: 0.3506 - acc: 0.8590 - val_loss: 0.4303 - val_acc: 0.8249\n",
            "Epoch 12/30\n",
            "5000/5000 [==============================] - 40s 8ms/step - loss: 0.3425 - acc: 0.8588 - val_loss: 0.4622 - val_acc: 0.8137\n",
            "Epoch 13/30\n",
            "5000/5000 [==============================] - 41s 8ms/step - loss: 0.3283 - acc: 0.8690 - val_loss: 0.4333 - val_acc: 0.8208\n",
            "Epoch 14/30\n",
            "5000/5000 [==============================] - 41s 8ms/step - loss: 0.3181 - acc: 0.8740 - val_loss: 0.4475 - val_acc: 0.8179\n",
            "Epoch 15/30\n",
            "5000/5000 [==============================] - 41s 8ms/step - loss: 0.3059 - acc: 0.8788 - val_loss: 0.4393 - val_acc: 0.8204\n",
            "Epoch 16/30\n",
            "5000/5000 [==============================] - 40s 8ms/step - loss: 0.2964 - acc: 0.8820 - val_loss: 0.4516 - val_acc: 0.8111\n",
            "Epoch 17/30\n",
            "5000/5000 [==============================] - 40s 8ms/step - loss: 0.2863 - acc: 0.8870 - val_loss: 0.4424 - val_acc: 0.8198\n",
            "Epoch 18/30\n",
            "5000/5000 [==============================] - 41s 8ms/step - loss: 0.2795 - acc: 0.8872 - val_loss: 0.4576 - val_acc: 0.8130\n",
            "Epoch 19/30\n",
            "5000/5000 [==============================] - 40s 8ms/step - loss: 0.2708 - acc: 0.8926 - val_loss: 0.4602 - val_acc: 0.8085\n",
            "Epoch 20/30\n",
            "5000/5000 [==============================] - 41s 8ms/step - loss: 0.2602 - acc: 0.9006 - val_loss: 0.4560 - val_acc: 0.8188\n",
            "Epoch 21/30\n",
            "5000/5000 [==============================] - 41s 8ms/step - loss: 0.2563 - acc: 0.8998 - val_loss: 0.4599 - val_acc: 0.8156\n",
            "Epoch 22/30\n",
            "5000/5000 [==============================] - 40s 8ms/step - loss: 0.2503 - acc: 0.9042 - val_loss: 0.4645 - val_acc: 0.8121\n",
            "Epoch 23/30\n",
            "5000/5000 [==============================] - 40s 8ms/step - loss: 0.2410 - acc: 0.9070 - val_loss: 0.4730 - val_acc: 0.8127\n",
            "Epoch 24/30\n",
            "5000/5000 [==============================] - 40s 8ms/step - loss: 0.2352 - acc: 0.9122 - val_loss: 0.4855 - val_acc: 0.8060\n",
            "Epoch 25/30\n",
            "5000/5000 [==============================] - 40s 8ms/step - loss: 0.2287 - acc: 0.9142 - val_loss: 0.4796 - val_acc: 0.8169\n",
            "Epoch 26/30\n",
            "5000/5000 [==============================] - 40s 8ms/step - loss: 0.2251 - acc: 0.9154 - val_loss: 0.5102 - val_acc: 0.7992\n",
            "Epoch 27/30\n",
            "5000/5000 [==============================] - 41s 8ms/step - loss: 0.2203 - acc: 0.9188 - val_loss: 0.4709 - val_acc: 0.8217\n",
            "Epoch 28/30\n",
            "5000/5000 [==============================] - 40s 8ms/step - loss: 0.2157 - acc: 0.9220 - val_loss: 0.5099 - val_acc: 0.8053\n",
            "Epoch 29/30\n",
            "5000/5000 [==============================] - 41s 8ms/step - loss: 0.2113 - acc: 0.9220 - val_loss: 0.5086 - val_acc: 0.8053\n",
            "Epoch 30/30\n",
            "5000/5000 [==============================] - 40s 8ms/step - loss: 0.2071 - acc: 0.9248 - val_loss: 0.5088 - val_acc: 0.8092\n"
          ],
          "name": "stdout"
        },
        {
          "output_type": "execute_result",
          "data": {
            "text/plain": [
              "<keras.callbacks.History at 0x7fc4cc10b710>"
            ]
          },
          "metadata": {
            "tags": []
          },
          "execution_count": 25
        }
      ]
    },
    {
      "cell_type": "code",
      "metadata": {
        "colab_type": "code",
        "id": "wvpZH76uHe6G",
        "colab": {}
      },
      "source": [
        ""
      ],
      "execution_count": 0,
      "outputs": []
    },
    {
      "cell_type": "code",
      "metadata": {
        "colab_type": "code",
        "id": "n2hhm1-qHe6J",
        "colab": {}
      },
      "source": [
        ""
      ],
      "execution_count": 0,
      "outputs": []
    }
  ]
}